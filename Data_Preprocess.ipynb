{
 "cells": [
  {
   "cell_type": "code",
   "execution_count": 2,
   "id": "f2bf2317-dcab-40e4-8e33-d13cb65dd6a5",
   "metadata": {},
   "outputs": [],
   "source": [
    "import pandas as pd\n",
    "import numpy as np\n",
    "import pickle\n",
    "import matplotlib.pyplot as plt\n",
    "from mpl_toolkits.mplot3d import Axes3D\n",
    "from matplotlib import cm\n",
    "\n",
    "from utilities import Mapping\n",
    "import rdkit\n",
    "from rdkit import Chem\n",
    "from rdkit.Chem import MACCSkeys\n",
    "import re"
   ]
  },
  {
   "cell_type": "markdown",
   "id": "23b4bea8-cca9-4b02-baaa-7e94477605f0",
   "metadata": {},
   "source": [
    "# Synergy Score"
   ]
  },
  {
   "cell_type": "markdown",
   "id": "1dc6c6c1-e214-40fc-82a7-39b8c38cc62e",
   "metadata": {},
   "source": [
    "## 1. Load Data"
   ]
  },
  {
   "cell_type": "code",
   "execution_count": 3,
   "id": "d1742f2e-5ba3-4a39-9b7c-7cfb599d458a",
   "metadata": {},
   "outputs": [
    {
     "name": "stderr",
     "output_type": "stream",
     "text": [
      "C:\\Users\\deshen wang\\AppData\\Local\\Temp\\ipykernel_12000\\1638046646.py:1: DtypeWarning: Columns (2,7,19,22,23) have mixed types. Specify dtype option on import or set low_memory=False.\n",
      "  summary = pd.read_csv('summary_v_1_5.csv')\n"
     ]
    }
   ],
   "source": [
    "summary = pd.read_csv('summary_v_1_5.csv')"
   ]
  },
  {
   "cell_type": "code",
   "execution_count": 4,
   "id": "9b52f210-ceb4-4aef-ae4c-ccbe6b270fdf",
   "metadata": {},
   "outputs": [
    {
     "name": "stdout",
     "output_type": "stream",
     "text": [
      "There are 34 unique values in the 'study_name' column, they are ['GDSC1' 'CTRPV2' 'CCLE' 'GCSI' 'NCATS_ES(FAKI/AURKI)'\n",
      " 'NCATS_ES(NAMPT+PARP)' 'NCATS_DIPG' 'GRAY' 'FIMM' 'ALMANAC' 'FLOBAK'\n",
      " 'FORCINA' 'YOHE' 'NCATS_HL' 'WILSON' 'ASTRAZENECA' 'SCHMIDT' 'UHNBREAST'\n",
      " 'ONEIL' 'NCATS_MDR_CS' 'CLOUD' 'PHELAN' 'MATHEWS' 'NCATS_ATL' 'BEATAML'\n",
      " 'NCATS_2D_3D' 'NCATS_SARS-COV-2DPI' 'BOBROWSKI' 'DYALL' 'MOTT' 'FRIEDMAN'\n",
      " 'FALLAHI-SICHANI' 'FRIEDMAN2' 'MILLER']. \n"
     ]
    }
   ],
   "source": [
    "print(f\"There are {summary['study_name'].nunique()} unique values in the 'study_name' column, they are {summary['study_name'].unique()}. \")"
   ]
  },
  {
   "cell_type": "code",
   "execution_count": 5,
   "id": "bf4a094c-f3a8-42ab-803c-fdf038fb3d09",
   "metadata": {},
   "outputs": [],
   "source": [
    "# Create a mapping from study_name to a unique number for study_id\n",
    "study_name_to_id = {name: idx for idx, name in enumerate(summary['study_name'].unique(), start=1)}\n",
    "\n",
    "# Apply the mapping to the 'study_name' column to create a new 'study_id' column\n",
    "summary['study_id'] = summary['study_name'].map(study_name_to_id)"
   ]
  },
  {
   "cell_type": "code",
   "execution_count": 6,
   "id": "16fd3f4d-99d2-4d2c-a387-5839df2f2b50",
   "metadata": {},
   "outputs": [],
   "source": [
    "columns_to_drop = ['drug_col_target_name', 'drug_row_target_name', 'drug_col_clinical_phase', 'drug_row_clinical_phase', 'study_name','tissue_name', 'conc_row_unit','conc_col_unit'] \n",
    "summary_study = summary.drop(columns=columns_to_drop).dropna()\n",
    "summary_study['synergy_loewe'] = pd.to_numeric(summary_study['synergy_loewe'], errors='coerce')"
   ]
  },
  {
   "cell_type": "code",
   "execution_count": 7,
   "id": "4bf1476c-2c74-4a07-bfb5-b3d3beffd3ac",
   "metadata": {},
   "outputs": [],
   "source": [
    "summary_mean = summary_study.groupby(['drug_row','drug_col','cell_line_name', 'study_id'], as_index=False).mean()\n",
    "summary_mean = summary_mean.loc[:, ['drug_row', 'drug_col', 'cell_line_name', 'study_id','ri_row', 'ri_col', 'synergy_loewe']]"
   ]
  },
  {
   "cell_type": "code",
   "execution_count": 8,
   "id": "efc0e246-57fb-4932-b8fd-58dc4edbb6ee",
   "metadata": {},
   "outputs": [],
   "source": [
    "codes={'drugs': Mapping(set(summary_mean['drug_row'].unique()).union(set(summary_mean['drug_col'].unique()))),\n",
    "      'cell':Mapping(summary_mean['cell_line_name'].unique())}"
   ]
  },
  {
   "cell_type": "code",
   "execution_count": 9,
   "id": "b9a78c92-8e3d-44ca-bc7e-ac399fafaaac",
   "metadata": {},
   "outputs": [],
   "source": [
    "summary_mean['drug_col']=summary_mean['drug_col'].apply(lambda x: codes['drugs'].item2idx[x])\n",
    "summary_mean['drug_row']=summary_mean['drug_row'].apply(lambda x: codes['drugs'].item2idx[x])\n",
    "summary_mean['cell_line_name']=summary_mean['cell_line_name'].apply(lambda x: codes['cell'].item2idx[x])"
   ]
  },
  {
   "cell_type": "code",
   "execution_count": 10,
   "id": "bd232ad1-d1c0-4883-83fd-b413e46e959c",
   "metadata": {},
   "outputs": [],
   "source": [
    "summary_mean.to_pickle('summary_mean.p')"
   ]
  },
  {
   "cell_type": "code",
   "execution_count": 11,
   "id": "5332a316-10f6-4e7a-9927-45e3b1d69837",
   "metadata": {},
   "outputs": [
    {
     "data": {
      "text/html": [
       "<div>\n",
       "<style scoped>\n",
       "    .dataframe tbody tr th:only-of-type {\n",
       "        vertical-align: middle;\n",
       "    }\n",
       "\n",
       "    .dataframe tbody tr th {\n",
       "        vertical-align: top;\n",
       "    }\n",
       "\n",
       "    .dataframe thead th {\n",
       "        text-align: right;\n",
       "    }\n",
       "</style>\n",
       "<table border=\"1\" class=\"dataframe\">\n",
       "  <thead>\n",
       "    <tr style=\"text-align: right;\">\n",
       "      <th></th>\n",
       "      <th>drug_row</th>\n",
       "      <th>drug_col</th>\n",
       "      <th>cell_line_name</th>\n",
       "      <th>study_id</th>\n",
       "      <th>ri_row</th>\n",
       "      <th>ri_col</th>\n",
       "      <th>synergy_loewe</th>\n",
       "    </tr>\n",
       "  </thead>\n",
       "  <tbody>\n",
       "    <tr>\n",
       "      <th>0</th>\n",
       "      <td>2423</td>\n",
       "      <td>3158</td>\n",
       "      <td>0</td>\n",
       "      <td>12</td>\n",
       "      <td>-21.079400</td>\n",
       "      <td>17.392589</td>\n",
       "      <td>4.436431</td>\n",
       "    </tr>\n",
       "    <tr>\n",
       "      <th>1</th>\n",
       "      <td>1103</td>\n",
       "      <td>3920</td>\n",
       "      <td>1</td>\n",
       "      <td>23</td>\n",
       "      <td>-20.043000</td>\n",
       "      <td>25.595000</td>\n",
       "      <td>-44.555935</td>\n",
       "    </tr>\n",
       "    <tr>\n",
       "      <th>2</th>\n",
       "      <td>1103</td>\n",
       "      <td>2218</td>\n",
       "      <td>1</td>\n",
       "      <td>23</td>\n",
       "      <td>-9.776000</td>\n",
       "      <td>29.111000</td>\n",
       "      <td>-37.189720</td>\n",
       "    </tr>\n",
       "    <tr>\n",
       "      <th>3</th>\n",
       "      <td>339</td>\n",
       "      <td>3158</td>\n",
       "      <td>0</td>\n",
       "      <td>12</td>\n",
       "      <td>-4.051616</td>\n",
       "      <td>17.392589</td>\n",
       "      <td>10.755529</td>\n",
       "    </tr>\n",
       "    <tr>\n",
       "      <th>4</th>\n",
       "      <td>1596</td>\n",
       "      <td>4134</td>\n",
       "      <td>2</td>\n",
       "      <td>5</td>\n",
       "      <td>1.966000</td>\n",
       "      <td>25.537000</td>\n",
       "      <td>-8.644502</td>\n",
       "    </tr>\n",
       "  </tbody>\n",
       "</table>\n",
       "</div>"
      ],
      "text/plain": [
       "   drug_row  drug_col  cell_line_name  study_id     ri_row     ri_col  \\\n",
       "0      2423      3158               0        12 -21.079400  17.392589   \n",
       "1      1103      3920               1        23 -20.043000  25.595000   \n",
       "2      1103      2218               1        23  -9.776000  29.111000   \n",
       "3       339      3158               0        12  -4.051616  17.392589   \n",
       "4      1596      4134               2         5   1.966000  25.537000   \n",
       "\n",
       "   synergy_loewe  \n",
       "0       4.436431  \n",
       "1     -44.555935  \n",
       "2     -37.189720  \n",
       "3      10.755529  \n",
       "4      -8.644502  "
      ]
     },
     "execution_count": 11,
     "metadata": {},
     "output_type": "execute_result"
    }
   ],
   "source": [
    "summary_mean.head()"
   ]
  },
  {
   "cell_type": "markdown",
   "id": "d0c6c305-37ed-41d1-a973-fcc31afbb221",
   "metadata": {},
   "source": [
    "# Drug's Molescule Structure"
   ]
  },
  {
   "cell_type": "code",
   "execution_count": 12,
   "id": "b4f26db4-99c1-47a7-8b59-756d45bba5c8",
   "metadata": {},
   "outputs": [],
   "source": [
    "# read drug Excel file into a DataFrame\n",
    "drug = pd.read_excel('dump/drug2.xlsx', engine='openpyxl')"
   ]
  },
  {
   "cell_type": "code",
   "execution_count": 13,
   "id": "e4f83a95-f3c3-43d6-9d6f-3dfe5ca46e5b",
   "metadata": {},
   "outputs": [],
   "source": [
    "#drop unnamed column\n",
    "drug = drug.drop(columns=['Unnamed: 0'])\n",
    "drug = drug.rename(columns={'pubchem_cid': 'cid'})"
   ]
  },
  {
   "cell_type": "code",
   "execution_count": 14,
   "id": "aaf69d72-3a88-4194-a638-96dd2aa66e74",
   "metadata": {},
   "outputs": [],
   "source": [
    "# updating the 'id' column in the drug \n",
    "drug['id'] = drug['name'].apply(lambda x: codes['drugs'].item2idx.get(x))\n",
    "# filters out rows where the 'id' has missing values \n",
    "drug = drug.loc[~drug['id'].isna(),:]"
   ]
  },
  {
   "cell_type": "code",
   "execution_count": 15,
   "id": "f7b31fed-d412-4b9a-8c39-c58bc9ad316d",
   "metadata": {},
   "outputs": [
    {
     "name": "stdout",
     "output_type": "stream",
     "text": [
      "False\n"
     ]
    }
   ],
   "source": [
    "print(drug['smiles'].isna().any())"
   ]
  },
  {
   "cell_type": "code",
   "execution_count": 16,
   "id": "76924bc8-c6e8-4e5a-a729-b193abde7096",
   "metadata": {},
   "outputs": [],
   "source": [
    "drug['fps'] = drug['smiles'].apply(lambda x: list(MACCSkeys.GenMACCSKeys(Chem.MolFromSmiles(x))) if Chem.MolFromSmiles(x) is not None else '')\n",
    "drug['id']=drug['id'].apply(lambda x: int(x))"
   ]
  },
  {
   "cell_type": "code",
   "execution_count": 17,
   "id": "8ea27f55-d849-4dca-bcf8-de1b10f12717",
   "metadata": {},
   "outputs": [],
   "source": [
    "#Convert SMILES's character into index\n",
    "seqs = drug['smiles'].to_list()\n",
    "chars = set([char for seq in seqs for char in seq])\n",
    "chars = [''] + list(chars) #for zero embedding\n",
    "codes['mole'] = Mapping(chars)\n",
    "drug['smiles'] = drug['smiles'].apply(lambda x : [codes['mole'].item2idx[char] for char in x])"
   ]
  },
  {
   "cell_type": "markdown",
   "id": "cb4d7ecf-d6d1-4261-b6b2-c3582f37734f",
   "metadata": {},
   "source": [
    "# Drug's target gene"
   ]
  },
  {
   "cell_type": "code",
   "execution_count": 30,
   "id": "38443630-dc30-4654-9daa-d42bc6945642",
   "metadata": {},
   "outputs": [
    {
     "data": {
      "text/html": [
       "<div>\n",
       "<style scoped>\n",
       "    .dataframe tbody tr th:only-of-type {\n",
       "        vertical-align: middle;\n",
       "    }\n",
       "\n",
       "    .dataframe tbody tr th {\n",
       "        vertical-align: top;\n",
       "    }\n",
       "\n",
       "    .dataframe thead th {\n",
       "        text-align: right;\n",
       "    }\n",
       "</style>\n",
       "<table border=\"1\" class=\"dataframe\">\n",
       "  <thead>\n",
       "    <tr style=\"text-align: right;\">\n",
       "      <th></th>\n",
       "      <th>Gene</th>\n",
       "      <th>uniprot_protein_acc_id</th>\n",
       "      <th>drugbank_id</th>\n",
       "      <th>drug_name</th>\n",
       "      <th>drug_action_type</th>\n",
       "      <th>drug_status</th>\n",
       "      <th>drug_status2</th>\n",
       "    </tr>\n",
       "  </thead>\n",
       "  <tbody>\n",
       "    <tr>\n",
       "      <th>0</th>\n",
       "      <td>F2</td>\n",
       "      <td>P00734</td>\n",
       "      <td>DB00001</td>\n",
       "      <td>Lepirudin</td>\n",
       "      <td>Inhibitor</td>\n",
       "      <td>Biotech</td>\n",
       "      <td>Approved</td>\n",
       "    </tr>\n",
       "    <tr>\n",
       "      <th>1</th>\n",
       "      <td>EGFR</td>\n",
       "      <td>P00533</td>\n",
       "      <td>DB00002</td>\n",
       "      <td>Cetuximab</td>\n",
       "      <td>Antagonist</td>\n",
       "      <td>Biotech</td>\n",
       "      <td>Approved</td>\n",
       "    </tr>\n",
       "    <tr>\n",
       "      <th>2</th>\n",
       "      <td>ERBB</td>\n",
       "      <td>P00533</td>\n",
       "      <td>DB00002</td>\n",
       "      <td>Cetuximab</td>\n",
       "      <td>Antagonist</td>\n",
       "      <td>Biotech</td>\n",
       "      <td>Approved</td>\n",
       "    </tr>\n",
       "    <tr>\n",
       "      <th>3</th>\n",
       "      <td>ERBB1</td>\n",
       "      <td>P00533</td>\n",
       "      <td>DB00002</td>\n",
       "      <td>Cetuximab</td>\n",
       "      <td>Antagonist</td>\n",
       "      <td>Biotech</td>\n",
       "      <td>Approved</td>\n",
       "    </tr>\n",
       "    <tr>\n",
       "      <th>4</th>\n",
       "      <td>HER1</td>\n",
       "      <td>P00533</td>\n",
       "      <td>DB00002</td>\n",
       "      <td>Cetuximab</td>\n",
       "      <td>Antagonist</td>\n",
       "      <td>Biotech</td>\n",
       "      <td>Approved</td>\n",
       "    </tr>\n",
       "  </tbody>\n",
       "</table>\n",
       "</div>"
      ],
      "text/plain": [
       "    Gene uniprot_protein_acc_id drugbank_id  drug_name drug_action_type  \\\n",
       "0     F2                 P00734     DB00001  Lepirudin        Inhibitor   \n",
       "1   EGFR                 P00533     DB00002  Cetuximab       Antagonist   \n",
       "2   ERBB                 P00533     DB00002  Cetuximab       Antagonist   \n",
       "3  ERBB1                 P00533     DB00002  Cetuximab       Antagonist   \n",
       "4   HER1                 P00533     DB00002  Cetuximab       Antagonist   \n",
       "\n",
       "  drug_status drug_status2  \n",
       "0     Biotech     Approved  \n",
       "1     Biotech     Approved  \n",
       "2     Biotech     Approved  \n",
       "3     Biotech     Approved  \n",
       "4     Biotech     Approved  "
      ]
     },
     "execution_count": 30,
     "metadata": {},
     "output_type": "execute_result"
    }
   ],
   "source": [
    "#Load DrugBank target into a pandas dataframe\n",
    "drug_DrugBank_target=pd.read_csv('drug/drug_DrugBank_target.csv')\n",
    "drug_DrugBank_target.head()"
   ]
  },
  {
   "cell_type": "code",
   "execution_count": 31,
   "id": "46ae58d3-d67c-4970-8410-6d327c6ce34d",
   "metadata": {},
   "outputs": [
    {
     "data": {
      "text/html": [
       "<div>\n",
       "<style scoped>\n",
       "    .dataframe tbody tr th:only-of-type {\n",
       "        vertical-align: middle;\n",
       "    }\n",
       "\n",
       "    .dataframe tbody tr th {\n",
       "        vertical-align: top;\n",
       "    }\n",
       "\n",
       "    .dataframe thead th {\n",
       "        text-align: right;\n",
       "    }\n",
       "</style>\n",
       "<table border=\"1\" class=\"dataframe\">\n",
       "  <thead>\n",
       "    <tr style=\"text-align: right;\">\n",
       "      <th></th>\n",
       "      <th>drugbank_id</th>\n",
       "      <th>Gene</th>\n",
       "    </tr>\n",
       "  </thead>\n",
       "  <tbody>\n",
       "    <tr>\n",
       "      <th>0</th>\n",
       "      <td>DB00001</td>\n",
       "      <td>[F, 2]</td>\n",
       "    </tr>\n",
       "    <tr>\n",
       "      <th>1</th>\n",
       "      <td>DB00002</td>\n",
       "      <td>[E, S, F, D, Q, G, H, A, I, R, 1, C, 3, 6, B, 2]</td>\n",
       "    </tr>\n",
       "    <tr>\n",
       "      <th>2</th>\n",
       "      <td>DB00004</td>\n",
       "      <td>[A, G, I, R, 1, 2, L, B, 5]</td>\n",
       "    </tr>\n",
       "    <tr>\n",
       "      <th>3</th>\n",
       "      <td>DB00005</td>\n",
       "      <td>[T, S, F, D, N, Q, A, G, I, R, 1, C, 2, 3, B, ...</td>\n",
       "    </tr>\n",
       "    <tr>\n",
       "      <th>4</th>\n",
       "      <td>DB00006</td>\n",
       "      <td>[F, 2]</td>\n",
       "    </tr>\n",
       "  </tbody>\n",
       "</table>\n",
       "</div>"
      ],
      "text/plain": [
       "  drugbank_id                                               Gene\n",
       "0     DB00001                                             [F, 2]\n",
       "1     DB00002   [E, S, F, D, Q, G, H, A, I, R, 1, C, 3, 6, B, 2]\n",
       "2     DB00004                        [A, G, I, R, 1, 2, L, B, 5]\n",
       "3     DB00005  [T, S, F, D, N, Q, A, G, I, R, 1, C, 2, 3, B, ...\n",
       "4     DB00006                                             [F, 2]"
      ]
     },
     "execution_count": 31,
     "metadata": {},
     "output_type": "execute_result"
    }
   ],
   "source": [
    "#group the data by drugbank_id, then convert 'Gene' to a list.\n",
    "drug_DrugBank_target =  (\n",
    "    drug_DrugBank_target.groupby('drugbank_id')['Gene']\n",
    "    .agg(lambda x: list(set().union(*x)))\n",
    "    .reset_index()\n",
    ")\n",
    "drug_DrugBank_target.head()"
   ]
  },
  {
   "cell_type": "code",
   "execution_count": 32,
   "id": "078051c1-9d9f-4a68-aa92-ec082d2a11b0",
   "metadata": {},
   "outputs": [],
   "source": [
    "drug = pd.merge(drug, drug_DrugBank_target, how='left', on='drugbank_id')"
   ]
  },
  {
   "cell_type": "code",
   "execution_count": 33,
   "id": "879cd2b1-3bf6-43a7-a18c-7086356f3987",
   "metadata": {},
   "outputs": [],
   "source": [
    "drug.rename(columns={'Gene':'gene_drugbank'}, inplace=True)"
   ]
  },
  {
   "cell_type": "code",
   "execution_count": 34,
   "id": "1171fb3c-26ab-4ab5-88c8-edbe1d8422ad",
   "metadata": {},
   "outputs": [],
   "source": [
    "drug['gene_drugbank'] = drug['gene_drugbank'].apply(lambda x: [] if type(x) is float else x)"
   ]
  },
  {
   "cell_type": "markdown",
   "id": "4af96748-c6bf-433e-892b-d2ca8a689a54",
   "metadata": {},
   "source": [
    "Merge target genes from TTD"
   ]
  },
  {
   "cell_type": "code",
   "execution_count": 35,
   "id": "f9fc3d61-3ecb-4d03-a91c-82360bdbeb54",
   "metadata": {},
   "outputs": [],
   "source": [
    "drug_TTD_target = pd.read_csv('drug/drug_TTD_target.csv')\n",
    "drug_TTD_target['TTD_TARGETS'] = drug_TTD_target['TTD_TARGETS'].apply(lambda x: re.split(',|;', x))\n",
    "drug = pd.merge(drug, drug_TTD_target.loc[:,['TTD_TARGETS', 'cid']],how='left', on='cid')\n",
    "drug.rename(columns={'TTD_TARGETS':'gene_ttd'}, inplace=True)\n",
    "drug['gene_ttd'] = drug['gene_ttd'].apply(lambda x: [] if type(x) is float else x)"
   ]
  },
  {
   "cell_type": "markdown",
   "id": "cb180491-a890-48a2-913d-5c3f6293f86b",
   "metadata": {},
   "source": [
    "Merge target genes from LINC"
   ]
  },
  {
   "cell_type": "code",
   "execution_count": 36,
   "id": "1ca4fd75-95c6-4434-8998-ab78f427e510",
   "metadata": {},
   "outputs": [],
   "source": [
    "drug_lincs_target = pd.read_csv('drug/drug_lincs_target.csv')\n",
    "drug_lincs_target['target_genes']=drug_lincs_target['target_genes'].apply(lambda x: x.split(',') if type(x) is not float else [])\n",
    "drug = pd.merge(drug, drug_lincs_target.loc[:, ['target_genes', 'cid']], how='left', on='cid')\n",
    "drug.rename(columns={'target_genes':'gene_linc'}, inplace=True)"
   ]
  },
  {
   "cell_type": "markdown",
   "id": "92248ad9-fa8f-44b1-a702-b5a6f81ac577",
   "metadata": {},
   "source": [
    "Combine target genes "
   ]
  },
  {
   "cell_type": "code",
   "execution_count": 37,
   "id": "027f5b16-ccd6-4699-a2e4-ae1c5f23b4ae",
   "metadata": {},
   "outputs": [
    {
     "name": "stderr",
     "output_type": "stream",
     "text": [
      "C:\\Users\\deshen wang\\AppData\\Local\\Temp\\ipykernel_12000\\2102269707.py:2: FutureWarning: using <class 'list'> in Series.agg cannot aggregate and has been deprecated. Use Series.transform to keep behavior unchanged.\n",
      "  unique_genes_drug = [l for lst in drug['gene'].aggregate(list).values for l in lst]\n"
     ]
    }
   ],
   "source": [
    "drug['gene'] = drug.apply(lambda row: list(set(row['gene_drugbank']+row['gene_ttd']+row['gene_linc'])), axis=1)\n",
    "unique_genes_drug = [l for lst in drug['gene'].aggregate(list).values for l in lst]"
   ]
  },
  {
   "cell_type": "markdown",
   "id": "246fd394-bf28-45a9-b8e3-2710c817976f",
   "metadata": {},
   "source": [
    "## Cell Line Features"
   ]
  },
  {
   "cell_type": "code",
   "execution_count": 38,
   "id": "4fa5c7a8-712a-48b3-a78f-844010846c4a",
   "metadata": {},
   "outputs": [],
   "source": [
    "cell_line = pd.read_csv('cell/cell_line_meta.csv')\n",
    "cell_line.drop('id',axis=1, inplace=True)"
   ]
  },
  {
   "cell_type": "code",
   "execution_count": 39,
   "id": "e7af23ec-b3b2-402d-bd9b-abbac62cbbfb",
   "metadata": {},
   "outputs": [
    {
     "data": {
      "text/html": [
       "<div>\n",
       "<style scoped>\n",
       "    .dataframe tbody tr th:only-of-type {\n",
       "        vertical-align: middle;\n",
       "    }\n",
       "\n",
       "    .dataframe tbody tr th {\n",
       "        vertical-align: top;\n",
       "    }\n",
       "\n",
       "    .dataframe thead th {\n",
       "        text-align: right;\n",
       "    }\n",
       "</style>\n",
       "<table border=\"1\" class=\"dataframe\">\n",
       "  <thead>\n",
       "    <tr style=\"text-align: right;\">\n",
       "      <th></th>\n",
       "      <th>name</th>\n",
       "      <th>synonyms</th>\n",
       "      <th>cellosaurus_accession</th>\n",
       "      <th>SANGAR_ID</th>\n",
       "      <th>COSMIC_ID</th>\n",
       "      <th>BROAD_ID</th>\n",
       "      <th>CCLE_ID</th>\n",
       "      <th>tissue</th>\n",
       "      <th>disease_id</th>\n",
       "      <th>cell_id</th>\n",
       "    </tr>\n",
       "  </thead>\n",
       "  <tbody>\n",
       "    <tr>\n",
       "      <th>0</th>\n",
       "      <td>786-0</td>\n",
       "      <td>786-0; 786O; 786-0; 786.O; 786-O RCC; RCC 786-...</td>\n",
       "      <td>CVCL_1051</td>\n",
       "      <td>SIDM00125</td>\n",
       "      <td>905947</td>\n",
       "      <td>ACH-000649</td>\n",
       "      <td>786O_KIDNEY</td>\n",
       "      <td>kidney</td>\n",
       "      <td>C9385</td>\n",
       "      <td>105.0</td>\n",
       "    </tr>\n",
       "    <tr>\n",
       "      <th>1</th>\n",
       "      <td>A2058</td>\n",
       "      <td>A2058; A 2058; A-2058</td>\n",
       "      <td>CVCL_1059</td>\n",
       "      <td>SIDM00797</td>\n",
       "      <td>906792</td>\n",
       "      <td>ACH-000788</td>\n",
       "      <td>A2058_SKIN</td>\n",
       "      <td>skin</td>\n",
       "      <td>C3802</td>\n",
       "      <td>12.0</td>\n",
       "    </tr>\n",
       "    <tr>\n",
       "      <th>2</th>\n",
       "      <td>A2780</td>\n",
       "      <td>A2780; A-2780; 2780; A2780S</td>\n",
       "      <td>CVCL_0134</td>\n",
       "      <td>SIDM00210</td>\n",
       "      <td>906804</td>\n",
       "      <td>ACH-000657</td>\n",
       "      <td>A2780_OVARY</td>\n",
       "      <td>ovary</td>\n",
       "      <td>C7979</td>\n",
       "      <td>211.0</td>\n",
       "    </tr>\n",
       "    <tr>\n",
       "      <th>3</th>\n",
       "      <td>A375</td>\n",
       "      <td>A375; A 375; A375; A375-MEL; A375-mel; A375mel</td>\n",
       "      <td>CVCL_0132</td>\n",
       "      <td>SIDM00795</td>\n",
       "      <td>906793</td>\n",
       "      <td>ACH-000219</td>\n",
       "      <td>A375_SKIN</td>\n",
       "      <td>skin</td>\n",
       "      <td>C3802</td>\n",
       "      <td>84.0</td>\n",
       "    </tr>\n",
       "    <tr>\n",
       "      <th>4</th>\n",
       "      <td>A427</td>\n",
       "      <td>A427; A427</td>\n",
       "      <td>CVCL_1055</td>\n",
       "      <td>SIDM00810</td>\n",
       "      <td>910851</td>\n",
       "      <td>ACH-000757</td>\n",
       "      <td>A427_LUNG</td>\n",
       "      <td>lung</td>\n",
       "      <td>C3512</td>\n",
       "      <td>212.0</td>\n",
       "    </tr>\n",
       "  </tbody>\n",
       "</table>\n",
       "</div>"
      ],
      "text/plain": [
       "    name                                           synonyms  \\\n",
       "0  786-0  786-0; 786O; 786-0; 786.O; 786-O RCC; RCC 786-...   \n",
       "1  A2058                              A2058; A 2058; A-2058   \n",
       "2  A2780                        A2780; A-2780; 2780; A2780S   \n",
       "3   A375     A375; A 375; A375; A375-MEL; A375-mel; A375mel   \n",
       "4   A427                                         A427; A427   \n",
       "\n",
       "  cellosaurus_accession  SANGAR_ID COSMIC_ID    BROAD_ID      CCLE_ID  tissue  \\\n",
       "0             CVCL_1051  SIDM00125    905947  ACH-000649  786O_KIDNEY  kidney   \n",
       "1             CVCL_1059  SIDM00797    906792  ACH-000788   A2058_SKIN    skin   \n",
       "2             CVCL_0134  SIDM00210    906804  ACH-000657  A2780_OVARY   ovary   \n",
       "3             CVCL_0132  SIDM00795    906793  ACH-000219    A375_SKIN    skin   \n",
       "4             CVCL_1055  SIDM00810    910851  ACH-000757    A427_LUNG    lung   \n",
       "\n",
       "  disease_id  cell_id  \n",
       "0      C9385    105.0  \n",
       "1      C3802     12.0  \n",
       "2      C7979    211.0  \n",
       "3      C3802     84.0  \n",
       "4      C3512    212.0  "
      ]
     },
     "execution_count": 39,
     "metadata": {},
     "output_type": "execute_result"
    }
   ],
   "source": [
    "cell_line['cell_id'] = cell_line['name'].apply(lambda x: codes['cell'].item2idx.get(x))\n",
    "cell_line.head()"
   ]
  },
  {
   "cell_type": "code",
   "execution_count": 40,
   "id": "4dc163b2-ab0d-425a-98a3-0638da604042",
   "metadata": {},
   "outputs": [],
   "source": [
    "cell_line_tissue = cell_line.loc[~cell_line['cell_id'].isna(), ['cell_id', 'tissue', 'disease_id']]\n",
    "cell_line_tissue['cell_id'] = cell_line_tissue['cell_id'].astype(int)\n",
    "cell_line_tissue = cell_line_tissue.groupby('cell_id').first()"
   ]
  },
  {
   "cell_type": "code",
   "execution_count": 41,
   "id": "7c8b07ef-7f12-46de-92e1-45d733d0c5ef",
   "metadata": {},
   "outputs": [
    {
     "data": {
      "text/html": [
       "<div>\n",
       "<style scoped>\n",
       "    .dataframe tbody tr th:only-of-type {\n",
       "        vertical-align: middle;\n",
       "    }\n",
       "\n",
       "    .dataframe tbody tr th {\n",
       "        vertical-align: top;\n",
       "    }\n",
       "\n",
       "    .dataframe thead th {\n",
       "        text-align: right;\n",
       "    }\n",
       "</style>\n",
       "<table border=\"1\" class=\"dataframe\">\n",
       "  <thead>\n",
       "    <tr style=\"text-align: right;\">\n",
       "      <th></th>\n",
       "      <th>tissue_id</th>\n",
       "      <th>disease_id</th>\n",
       "    </tr>\n",
       "    <tr>\n",
       "      <th>cell_id</th>\n",
       "      <th></th>\n",
       "      <th></th>\n",
       "    </tr>\n",
       "  </thead>\n",
       "  <tbody>\n",
       "    <tr>\n",
       "      <th>0</th>\n",
       "      <td>0</td>\n",
       "      <td>C3058</td>\n",
       "    </tr>\n",
       "    <tr>\n",
       "      <th>1</th>\n",
       "      <td>1</td>\n",
       "      <td>C8851</td>\n",
       "    </tr>\n",
       "    <tr>\n",
       "      <th>2</th>\n",
       "      <td>2</td>\n",
       "      <td>C4817</td>\n",
       "    </tr>\n",
       "    <tr>\n",
       "      <th>3</th>\n",
       "      <td>1</td>\n",
       "      <td>C9357</td>\n",
       "    </tr>\n",
       "    <tr>\n",
       "      <th>4</th>\n",
       "      <td>0</td>\n",
       "      <td>C94764</td>\n",
       "    </tr>\n",
       "    <tr>\n",
       "      <th>...</th>\n",
       "      <td>...</td>\n",
       "      <td>...</td>\n",
       "    </tr>\n",
       "    <tr>\n",
       "      <th>267</th>\n",
       "      <td>13</td>\n",
       "      <td>C4912</td>\n",
       "    </tr>\n",
       "    <tr>\n",
       "      <th>270</th>\n",
       "      <td>6</td>\n",
       "      <td>C4004</td>\n",
       "    </tr>\n",
       "    <tr>\n",
       "      <th>280</th>\n",
       "      <td>16</td>\n",
       "      <td>C9120</td>\n",
       "    </tr>\n",
       "    <tr>\n",
       "      <th>281</th>\n",
       "      <td>3</td>\n",
       "      <td>C3224</td>\n",
       "    </tr>\n",
       "    <tr>\n",
       "      <th>282</th>\n",
       "      <td>3</td>\n",
       "      <td>C3224</td>\n",
       "    </tr>\n",
       "  </tbody>\n",
       "</table>\n",
       "<p>208 rows × 2 columns</p>\n",
       "</div>"
      ],
      "text/plain": [
       "         tissue_id disease_id\n",
       "cell_id                      \n",
       "0                0      C3058\n",
       "1                1      C8851\n",
       "2                2      C4817\n",
       "3                1      C9357\n",
       "4                0     C94764\n",
       "...            ...        ...\n",
       "267             13      C4912\n",
       "270              6      C4004\n",
       "280             16      C9120\n",
       "281              3      C3224\n",
       "282              3      C3224\n",
       "\n",
       "[208 rows x 2 columns]"
      ]
     },
     "execution_count": 41,
     "metadata": {},
     "output_type": "execute_result"
    }
   ],
   "source": [
    "codes['tissue'] = Mapping(cell_line_tissue['tissue'].unique())\n",
    "cell_line_tissue['tissue'] = cell_line_tissue['tissue'].apply(lambda x: codes['tissue'].item2idx[x])\n",
    "cell_line_tissue.rename(columns={'tissue':'tissue_id'}, inplace=True)\n",
    "cell_line_tissue"
   ]
  },
  {
   "cell_type": "code",
   "execution_count": 42,
   "id": "9caf06a3-eaaf-4057-879d-ba9c5434c4a8",
   "metadata": {},
   "outputs": [],
   "source": [
    "codes['disease'] = Mapping(cell_line_tissue['disease_id'].apply(lambda x: x.split(' ')[-1].lower() if type(x) is not float else '').unique())\n",
    "cell_line_tissue['disease_id'] = cell_line_tissue['disease_id'].apply(lambda x: codes['disease'].item2idx[x.split(' ')[-1].lower()] if type(x) is not float else codes['disease'].item2idx[''])\n"
   ]
  },
  {
   "cell_type": "code",
   "execution_count": 43,
   "id": "2e05c0d1-e9d0-4d7a-b9f1-53543870ee4a",
   "metadata": {},
   "outputs": [],
   "source": [
    "codes['tissue'].item2idx['haematopoietic_and_lymphoid']=1\n",
    "codes['tissue'].idx2item[1]='hem&lymp'"
   ]
  },
  {
   "cell_type": "code",
   "execution_count": 44,
   "id": "5d31a2e9-cc89-46bb-aed0-58cff7c78967",
   "metadata": {},
   "outputs": [
    {
     "data": {
      "text/plain": [
       "{'c3058': 0,\n",
       " 'c8851': 1,\n",
       " 'c4817': 2,\n",
       " 'c9357': 3,\n",
       " 'c94764': 4,\n",
       " 'c3716': 5,\n",
       " 'c3510': 6,\n",
       " 'c3224': 7,\n",
       " 'c3802': 8,\n",
       " 'c3174': 9,\n",
       " 'c4194': 10,\n",
       " 'c5214': 11,\n",
       " 'c4872': 12,\n",
       " 'c4017': 13,\n",
       " 'c4001': 14,\n",
       " 'c9385': 15,\n",
       " 'c4004': 16,\n",
       " 'c4349': 17,\n",
       " 'c4863': 18,\n",
       " 'c8971': 19,\n",
       " 'c4910': 20,\n",
       " 'c5543': 21,\n",
       " 'c9383': 22,\n",
       " 'c3512': 23,\n",
       " 'c6975': 24,\n",
       " 'c4033': 25,\n",
       " 'c7953': 26,\n",
       " 'c2926': 27,\n",
       " 'c9154': 28,\n",
       " 'c7979': 29,\n",
       " 'c9142': 30,\n",
       " 'c3493': 31,\n",
       " 'c2923': 32,\n",
       " 'c4450': 33,\n",
       " 'c105555': 34,\n",
       " 'c3242': 35,\n",
       " 'c60781': 36,\n",
       " 'c3796': 37,\n",
       " 'c7978': 38,\n",
       " 'c7873': 39,\n",
       " 'c40359': 40,\n",
       " 'c4912': 41,\n",
       " 'c7899': 42,\n",
       " 'c4917': 43,\n",
       " 'c3099': 44,\n",
       " 'c40078': 45,\n",
       " 'c9351': 46,\n",
       " 'c7700': 47,\n",
       " 'c4908': 48,\n",
       " 'c27677': 49,\n",
       " 'c2993': 50,\n",
       " 'c9120': 51}"
      ]
     },
     "execution_count": 44,
     "metadata": {},
     "output_type": "execute_result"
    }
   ],
   "source": [
    "codes['tissue'].item2idx\n",
    "codes['disease'].item2idx"
   ]
  },
  {
   "cell_type": "code",
   "execution_count": 45,
   "id": "78669e34-a6e0-46c1-90d9-edd86ac586b8",
   "metadata": {},
   "outputs": [
    {
     "data": {
      "text/plain": [
       "Text(0, 0.5, 'number of cell lines')"
      ]
     },
     "execution_count": 45,
     "metadata": {},
     "output_type": "execute_result"
    },
    {
     "data": {
      "image/png": "[encoded data removed]",
      "text/plain": [
       "<Figure size 800x500 with 1 Axes>"
      ]
     },
     "metadata": {},
     "output_type": "display_data"
    }
   ],
   "source": [
    "#Counting number of cell lines per tissue\n",
    "tissue_cell_cnts=cell_line_tissue.groupby('tissue_id').count().sort_values(by='disease_id', ascending=False)['disease_id']\n",
    "plt.figure(figsize=(8,5))\n",
    "plt.bar([codes['tissue'].idx2item[tissue_id] for tissue_id in tissue_cell_cnts.index], tissue_cell_cnts)\n",
    "plt.xticks(rotation=90)\n",
    "plt.xlabel('tissue')\n",
    "plt.ylabel('number of cell lines')\n",
    "#plt.savefig(data_path+'tissue_num_cell.png', bbox_inches='tight', dpi=200)"
   ]
  },
  {
   "cell_type": "markdown",
   "id": "b19cc021-783e-4702-bae5-79c0d39ce2a7",
   "metadata": {},
   "source": [
    "# Cell line's gene expression"
   ]
  },
  {
   "cell_type": "code",
   "execution_count": 46,
   "id": "c81075df-58fb-4d95-abde-c0df08843c22",
   "metadata": {},
   "outputs": [],
   "source": [
    "#Mapping\n",
    "gene_identifiers = pd.read_csv('cell/gene_identifiers_latest.csv')\n",
    "cell_line_meta = pd.read_csv('cell/cell_line_meta.csv')\n",
    "\n",
    "_codes = {}\n",
    "_codes['gene_id2hgnc_symbol'] = gene_identifiers[['gene_id', 'hgnc_symbol']].set_index('gene_id').to_dict('index')\n",
    "_codes['SANGAR_ID2cell_name'] = cell_line_meta.loc[cell_line_meta['name'].isin(codes['cell'].idx2item) & ~cell_line_meta['SANGAR_ID'].isna(), ['SANGAR_ID', 'name']].set_index('SANGAR_ID').to_dict('index')"
   ]
  },
  {
   "cell_type": "code",
   "execution_count": 47,
   "id": "39c152e4-88fb-4105-bfc8-fde10f4a374c",
   "metadata": {},
   "outputs": [],
   "source": [
    "fpkm_broad = pd.read_csv('cell/fpkm_broad.csv')\n",
    "\n",
    "fpkm_broad = fpkm_broad.loc[fpkm_broad['model_id'].isin(_codes['SANGAR_ID2cell_name'])] #apply(lambda x: _codes['SANGAR_ID2cell_name'].get(x))\n",
    "fpkm_broad['model_id'] = fpkm_broad['model_id'].apply(lambda x: codes['cell'].item2idx[_codes['SANGAR_ID2cell_name'][x]['name']])\n",
    "fpkm_broad.rename(columns={col:_codes['gene_id2hgnc_symbol'][col]['hgnc_symbol'] for col in fpkm_broad.columns[1:]}, inplace=True)\n",
    "\n",
    "fpkm_broad.rename(columns={'model_id':'cell_id'}, inplace=True)\n",
    "fpkm_broad.set_index('cell_id', inplace=True)"
   ]
  },
  {
   "cell_type": "code",
   "execution_count": 48,
   "id": "cbff30a5-14b0-46a0-a0e8-973317dcdac3",
   "metadata": {},
   "outputs": [
    {
     "data": {
      "text/plain": [
       "23573"
      ]
     },
     "execution_count": 48,
     "metadata": {},
     "output_type": "execute_result"
    }
   ],
   "source": [
    "(fpkm_broad.sum()>0).sum()"
   ]
  },
  {
   "cell_type": "code",
   "execution_count": 49,
   "id": "62f26cd5-866d-40c7-9bea-2cc5107b5988",
   "metadata": {},
   "outputs": [],
   "source": [
    "#Sangar\n",
    "fpkm_sangar = pd.read_csv('cell/fpkm_sangar.csv')\n",
    "\n",
    "fpkm_sangar = fpkm_sangar.loc[fpkm_sangar['model_id'].isin(_codes['SANGAR_ID2cell_name'])] #apply(lambda x: _codes['SANGAR_ID2cell_name'].get(x))\n",
    "fpkm_sangar['model_id'] = fpkm_sangar['model_id'].apply(lambda x: codes['cell'].item2idx[_codes['SANGAR_ID2cell_name'][x]['name']])\n",
    "fpkm_sangar.rename(columns={col:_codes['gene_id2hgnc_symbol'][col]['hgnc_symbol'] for col in fpkm_sangar.columns[1:]}, inplace=True)\n",
    "\n",
    "fpkm_sangar.rename(columns={'model_id':'cell_id'}, inplace=True)\n",
    "fpkm_sangar.set_index('cell_id', inplace=True)"
   ]
  },
  {
   "cell_type": "code",
   "execution_count": 50,
   "id": "885337dd-93c0-4b97-96da-1ed104390d16",
   "metadata": {},
   "outputs": [
    {
     "data": {
      "text/plain": [
       "19446"
      ]
     },
     "execution_count": 50,
     "metadata": {},
     "output_type": "execute_result"
    }
   ],
   "source": [
    "(fpkm_sangar.sum()>0).sum()"
   ]
  },
  {
   "cell_type": "code",
   "execution_count": 51,
   "id": "23e7a282-494b-4288-8c33-c2de955c081a",
   "metadata": {},
   "outputs": [],
   "source": [
    "cell_gene_fpkm = pd.concat([fpkm_broad,fpkm_sangar], sort=True) #integrate BROAD and SANGAR\n",
    "cell_gene_fpkm = cell_gene_fpkm.loc[:,(cell_gene_fpkm.std(skipna=True)!=0)] #drop genes with std=0\n",
    "cell_gene_fpkm.fillna(0, inplace=True)\n",
    "\n",
    "cell_gene_fpkm_norm = ((cell_gene_fpkm-cell_gene_fpkm.mean())/cell_gene_fpkm.std()) #z-score, gene-wise\n",
    "\n",
    "unique_genes_cell = cell_gene_fpkm_norm.columns.to_list()"
   ]
  },
  {
   "cell_type": "code",
   "execution_count": 52,
   "id": "af179bbe-c7c3-4e7d-8daa-4ea8461f84e5",
   "metadata": {},
   "outputs": [
    {
     "data": {
      "text/plain": [
       "24268"
      ]
     },
     "execution_count": 52,
     "metadata": {},
     "output_type": "execute_result"
    }
   ],
   "source": [
    "len(unique_genes_cell)"
   ]
  },
  {
   "cell_type": "markdown",
   "id": "2b2bdf34-6637-4bd4-9646-b176f951cc8b",
   "metadata": {},
   "source": [
    "# Integrate all genes and save pickles"
   ]
  },
  {
   "cell_type": "code",
   "execution_count": 53,
   "id": "5b091e31-1c6d-4dc3-a411-ebbf8c3ca07c",
   "metadata": {},
   "outputs": [],
   "source": [
    "codes['gene'] = Mapping(set(unique_genes_cell).union(set(unique_genes_drug)))\n"
   ]
  },
  {
   "cell_type": "code",
   "execution_count": 54,
   "id": "b327b4b0-b80a-4a2a-92ce-c9a3feb3cb55",
   "metadata": {},
   "outputs": [
    {
     "data": {
      "text/plain": [
       "24269"
      ]
     },
     "execution_count": 54,
     "metadata": {},
     "output_type": "execute_result"
    }
   ],
   "source": [
    "#number of unique genes\n",
    "len(codes['gene'].idx2item)"
   ]
  },
  {
   "cell_type": "code",
   "execution_count": 147,
   "id": "99db5e88-f097-4c65-ad63-874798214eeb",
   "metadata": {},
   "outputs": [],
   "source": [
    "#Update drug's genes\n",
    "drug['gene_id'] = drug['gene'].apply(lambda genes: [codes['gene'].item2idx[gene] for gene in genes])\n",
    "#subset of drug features\n",
    "drug[['id', 'smiles', 'fps', 'gene_id']].groupby('id').first().to_pickle('drug_features.p')"
   ]
  },
  {
   "cell_type": "code",
   "execution_count": 148,
   "id": "21a23b5b-0394-42fc-83ef-dd8d0b7ed1c7",
   "metadata": {},
   "outputs": [],
   "source": [
    "#Merge cell line's tissue, disease type with gene_id\n",
    "cell_gene = cell_gene_fpkm_norm.apply(lambda row: {codes['gene'].item2idx[gene]:row[gene] for gene in cell_gene_fpkm_norm.columns}, axis=1).reset_index()\n",
    "cell_gene.rename(columns={0:'gene_id'}, inplace=True)\n",
    "cell_gene = cell_gene.groupby('cell_id').first()\n",
    "cell_line = pd.merge(cell_line_tissue, cell_gene, how='left', on='cell_id')\n",
    "cell_line['gene_id']=cell_line['gene_id'].apply(lambda x: {} if type(x) is float else x)\n",
    "\n",
    "cell_line.to_pickle('cell_features.p')"
   ]
  },
  {
   "cell_type": "code",
   "execution_count": 152,
   "id": "1858f278-c48f-4973-99f2-a843e9fd7932",
   "metadata": {},
   "outputs": [],
   "source": [
    "pickle.dump(codes, open('codes.p', 'wb'))"
   ]
  },
  {
   "cell_type": "code",
   "execution_count": null,
   "id": "85e86588-cf3a-4f93-bab3-16e954836723",
   "metadata": {},
   "outputs": [],
   "source": []
  }
 ],
 "metadata": {
  "kernelspec": {
   "display_name": "Python 3 (ipykernel)",
   "language": "python",
   "name": "python3"
  },
  "language_info": {
   "codemirror_mode": {
    "name": "ipython",
    "version": 3
   },
   "file_extension": ".py",
   "mimetype": "text/x-python",
   "name": "python",
   "nbconvert_exporter": "python",
   "pygments_lexer": "ipython3",
   "version": "3.12.2"
  }
 },
 "nbformat": 4,
 "nbformat_minor": 5
}
