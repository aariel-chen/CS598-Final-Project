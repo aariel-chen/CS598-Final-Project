{
 "cells": [
  {
   "cell_type": "markdown",
   "id": "17628b68-8036-4654-a0b8-00e82313184d",
   "metadata": {},
   "source": [
    "# CS 598 Deep Learning for Healthcare Final Project Draft \n",
    "Paper: Anticancer drug synergy prediction in understudied tissues using transfer learning"
   ]
  },
  {
   "cell_type": "markdown",
   "id": "c3873f2a-d708-4b13-995c-a70d3fc30b7f",
   "metadata": {},
   "source": [
    "# Introduction \n",
    "\n",
    "- Background of The Problem\n",
    "\n",
    "One promissing area of research is the prediction of anticancer drug synergy. Drug synergy occurs when the combined effect of two drugs exceeds the sum of their individual effects, potentially leading to more effective cancer treatment with few side effects. However, finding good drug combinations to treat cancer better is tough because we don't have enough test results for all cancer types. Some cancers may have been studied a lot, and we know how they react to drugs. But many other cancers haven't been looked at as much, so it's hard to know what drug combinations might work best for them. We want to fix this by using a special method to guess the effects of drugs on these less-studied cancers, using what we've learned from the cancers we know more about.\n",
    "\n",
    "The Problem at hand is a complex mixture of disease prediction, feature engineering, and data processing. It involves predicting which combinations of drugs might work synergistically for cancer treatment in specific tissues, using computational models to analyze vast datasets of molecular, genetic, and phenotypic features of cancer cell lines. Solving this problem has the potential to revolutionize cancer treatment by identifying new drug combinations that are highly effective against cancer cells while minimizing harm to normal cells. This could lead to more personalized and effective treatment plans, especially for cancers that are currectly difficult to treat.\n",
    "\n",
    "The prediction of drug synergy in understudied tissues is fraught with challenges, primarily due to the scarcity of data. Many tissues have not been thoroughly researched, resulting in a limited understanding of their response to various drug treatments. Moreover, the high dimensionality of the data, the need for accurate feature selection, and the complexity of cancer biology add layers of complexity to developing predictive models. The paper discusses a new approach that utilizes multitask deep neural networks and transfer learning from data-rich tissues to enhance the prediction accuracy in data-poor tissues. This method not only improves the accuracy of predictions in both data-rich and understudied tissues but also opens up new avenues for prioritizing future experimental investigations.\n",
    "\n",
    "- Paper explanation\n",
    "\n",
    "This research paper presents a new way to find out which two drugs can work better together to treat cancer, especially in parts of the body not much studied before. It talks about using transfer learning, to better predict on how drug combinations work in tissues that scientists haven't been able to explore much. The paper's method takes well-studied parts of the body and uses that knowledge to make educated predict about less-known areas. It mixes a bunch of information about cancer cells, like their genes and how they look, with a clever computer brain that can handle multiple tasks at once. This is quite different because it tries to solve the problem of not having enough data about some types of cancer.\n",
    "\n",
    "The model achieved high scores in AUROC (Area Under the Receiver Operating Characteristic curve) and MSE (Mean Squared Error), indicative of its precision and reliability. The improved accuracy in data-poor environments, highlights the method of using transfer learning and multitask deep neural networks to overcome the challenges posed by data scarcity. This paper helps better about which drug combinations might be a winning team against cancer in parts of the body that we don't know much about. This could lead to discovering new treatments faster and more cheaply, making a big difference in the fight against cancer."
   ]
  },
  {
   "cell_type": "markdown",
   "id": "cc676f5c-ce6e-47a1-aab5-0c5cd27154f8",
   "metadata": {},
   "source": [
    "# Scope of Reproducibility:\n",
    "\n",
    "- Hypothesis 1: The transfer learning approach can significantly improve the accuracy of drug synergy predictions in understudied tissues\n",
    "- Hypothesis 2: A model trained on data-rich tissues can effectively learn generalizable patterns applicable to data-poor tissues."
   ]
  },
  {
   "cell_type": "markdown",
   "id": "f442c519-6c4a-43e9-a17f-b63230680f22",
   "metadata": {},
   "source": [
    "# Methodology "
   ]
  },
  {
   "cell_type": "code",
   "execution_count": 2,
   "id": "70b8c381-ba39-47d6-ad6e-adbeeae8275b",
   "metadata": {},
   "outputs": [
    {
     "name": "stdout",
     "output_type": "stream",
     "text": [
      "3.12.3 (tags/v3.12.3:f6650f9, Apr  9 2024, 14:05:25) [MSC v.1938 64 bit (AMD64)]\n"
     ]
    }
   ],
   "source": [
    "import sys\n",
    "print(sys.version)"
   ]
  },
  {
   "cell_type": "code",
   "execution_count": 78,
   "id": "9189110f-775e-4be5-94eb-9703c3e4b3d9",
   "metadata": {},
   "outputs": [],
   "source": [
    "import os\n",
    "import torch\n",
    "import numpy as np\n",
    "import pandas as pd\n",
    "import pdb\n",
    "import time\n",
    "import pickle\n",
    "import logging\n",
    "import matplotlib.pyplot as plt\n",
    "from utilities import Mapping"
   ]
  },
  {
   "cell_type": "code",
   "execution_count": 79,
   "id": "df89dd6c-6940-4996-9214-5a89fe65b19a",
   "metadata": {},
   "outputs": [],
   "source": [
    "import torch.nn as nn\n",
    "from torch.autograd import Variable\n",
    "import torch.optim as optim\n",
    "import torch.nn.functional as F\n",
    "from torch.utils.data import Dataset, DataLoader\n",
    "\n",
    "from sklearn.linear_model import LogisticRegression\n",
    "from sklearn.model_selection import train_test_split\n",
    "from sklearn import metrics \n",
    "from sklearn.metrics import mean_squared_error\n",
    "\n",
    "import matplotlib.pyplot as plt\n",
    "import matplotlib.image as mpimg\n"
   ]
  },
  {
   "cell_type": "code",
   "execution_count": 80,
   "id": "7edcd29e-cc77-4a06-bb85-42ce5aed7a1c",
   "metadata": {},
   "outputs": [],
   "source": [
    "bsz = 128\n",
    "device = 3\n",
    "#torch.cuda.set_device(device)\n",
    "\n",
    "device = torch.device(\"cpu\")\n",
    "num_gene_compressed_drug = 64\n",
    "num_gene_compressed_cell = 128\n",
    "\n",
    "isClassification=True #False for regression task\n",
    "syn_threshold = 30\n",
    "ri_threshold = 50\n",
    "\n",
    "batch_first=True\n",
    "log_interval = 100\n",
    "epochs = 10"
   ]
  },
  {
   "cell_type": "markdown",
   "id": "41f24b43-164d-499a-951a-ca9c1273a3b5",
   "metadata": {},
   "source": [
    "# Data"
   ]
  },
  {
   "cell_type": "markdown",
   "id": "ee1363a8-40ec-4c7c-85f6-9f64779f36bf",
   "metadata": {},
   "source": [
    "Data Preprocessing:\n",
    "\n",
    "- Drug Sensitivity and Synergy : The raw data was collected from DrugComb and loaded from a CSV file, summary_table_v1.4.csv(https://drugcomb.org/download/). It contains the experimental results, including the drug pair identifiers (drug_row and drug_col), the cell line names, and the observed effects.A mapping is created from study_name to a unique number for study_id and apply the mapping to the 'study_name' column to create a new 'study_id' column. To reduce variance and simplify the dataset, the mean values were computed for each combination of drug_row, drug_col, cell_line_name, and study_id, and only retain the relevant features. A unique index was assigned to each drug and cell line name using a custom Mapping class.\n",
    "\n",
    "- Drug Features: The raw data of drug features was provided by author Yejin Kim directly.The preprocessing of the drug dataset was a multi-step process that involved cleaning, transforming, and merging data from various sources to create drug’s molecular and genomic features. After loading the drug data, the column named 'pubchem_cid' was renamed to 'cid', each drug's name was translated into a numerical identifier using a predefined mapping and rows with missing 'id' values were filtered out. The 'smiles' strings, representing the structural formula of drugs, were converted into MACCS keys and then converting each character into a numerical index. In addition, target genes from DrugBank were loaded and grouped by 'drugbank_id' to remove duplicates and aggregate the data then merged back into the main drug dataset.\n",
    "\n",
    "- Cell Line Features: The raw data of cell features was provided by author Yejin Kim directly. Started by loading the metadata for cell lines from a CSV file, any redundant or unnecessary columns were removed and converted categorical data into numerical codes. I further annotated each cell line with information regarding the tissue and disease it was associated with, and performed joins where necessary. The gene expression levels of the cell lines were integrated from multiple sources. The datasets from Broad and SANGER were combined, and standard deviation filtering was applied to remove genes that did not vary across the dataset. Z-score normalization gene-wise was performed to adjust for the mean and standard deviation of each gene's expression levels across all cell lines. If genes with a standard deviation of zero, were excluded.\n",
    "\n",
    "- Data_Preprocess.ipyb can be found at the github (https://github.com/aariel-chen/CS598-Final-Project/tree/master)\n",
    "\n",
    "\n",
    "Our final dataset consists of experimental synergy scores along with associated drug and cell line features. The dataset includes a total of 288 unique cell lines and 4268 unique drugs, each drug is described by a set of molecular fingerprints (fps) and SMILES strings, with the latter having a maximum length of 364 characters. For the cell lines, gene expression profiles are provided, with each cell line associated with a specific tissue and disease, encoded numerically as tissue_id and disease_id respectively, with 24356 unique genes represented across the cell lines. \n"
   ]
  },
  {
   "cell_type": "code",
   "execution_count": 6,
   "id": "b85708ec-c541-48e9-b6ab-00d0e5dbf11b",
   "metadata": {},
   "outputs": [],
   "source": [
    "summary = pickle.load(open('summary_mean.p', 'rb'))\n",
    "codes = pickle.load(open('codes.p', 'rb'))"
   ]
  },
  {
   "cell_type": "code",
   "execution_count": 7,
   "id": "38fb642b-b2df-40b1-90da-2d417ae1d071",
   "metadata": {},
   "outputs": [
    {
     "data": {
      "text/html": [
       "<div>\n",
       "<style scoped>\n",
       "    .dataframe tbody tr th:only-of-type {\n",
       "        vertical-align: middle;\n",
       "    }\n",
       "\n",
       "    .dataframe tbody tr th {\n",
       "        vertical-align: top;\n",
       "    }\n",
       "\n",
       "    .dataframe thead th {\n",
       "        text-align: right;\n",
       "    }\n",
       "</style>\n",
       "<table border=\"1\" class=\"dataframe\">\n",
       "  <thead>\n",
       "    <tr style=\"text-align: right;\">\n",
       "      <th></th>\n",
       "      <th>drug_row</th>\n",
       "      <th>drug_col</th>\n",
       "      <th>cell_line_name</th>\n",
       "      <th>study_id</th>\n",
       "      <th>ri_row</th>\n",
       "      <th>ri_col</th>\n",
       "      <th>synergy_loewe</th>\n",
       "    </tr>\n",
       "  </thead>\n",
       "  <tbody>\n",
       "    <tr>\n",
       "      <th>0</th>\n",
       "      <td>4065</td>\n",
       "      <td>274</td>\n",
       "      <td>0</td>\n",
       "      <td>12</td>\n",
       "      <td>-21.079400</td>\n",
       "      <td>17.392589</td>\n",
       "      <td>4.436431</td>\n",
       "    </tr>\n",
       "    <tr>\n",
       "      <th>1</th>\n",
       "      <td>2224</td>\n",
       "      <td>1810</td>\n",
       "      <td>1</td>\n",
       "      <td>23</td>\n",
       "      <td>-20.043000</td>\n",
       "      <td>25.595000</td>\n",
       "      <td>-44.555935</td>\n",
       "    </tr>\n",
       "    <tr>\n",
       "      <th>2</th>\n",
       "      <td>2224</td>\n",
       "      <td>493</td>\n",
       "      <td>1</td>\n",
       "      <td>23</td>\n",
       "      <td>-9.776000</td>\n",
       "      <td>29.111000</td>\n",
       "      <td>-37.189720</td>\n",
       "    </tr>\n",
       "    <tr>\n",
       "      <th>3</th>\n",
       "      <td>1717</td>\n",
       "      <td>274</td>\n",
       "      <td>0</td>\n",
       "      <td>12</td>\n",
       "      <td>-4.051616</td>\n",
       "      <td>17.392589</td>\n",
       "      <td>10.755529</td>\n",
       "    </tr>\n",
       "    <tr>\n",
       "      <th>4</th>\n",
       "      <td>1551</td>\n",
       "      <td>2949</td>\n",
       "      <td>2</td>\n",
       "      <td>5</td>\n",
       "      <td>1.966000</td>\n",
       "      <td>25.537000</td>\n",
       "      <td>-8.644502</td>\n",
       "    </tr>\n",
       "    <tr>\n",
       "      <th>...</th>\n",
       "      <td>...</td>\n",
       "      <td>...</td>\n",
       "      <td>...</td>\n",
       "      <td>...</td>\n",
       "      <td>...</td>\n",
       "      <td>...</td>\n",
       "      <td>...</td>\n",
       "    </tr>\n",
       "    <tr>\n",
       "      <th>651163</th>\n",
       "      <td>4166</td>\n",
       "      <td>4243</td>\n",
       "      <td>42</td>\n",
       "      <td>21</td>\n",
       "      <td>18.700184</td>\n",
       "      <td>19.589164</td>\n",
       "      <td>-10.017628</td>\n",
       "    </tr>\n",
       "    <tr>\n",
       "      <th>651164</th>\n",
       "      <td>4166</td>\n",
       "      <td>3502</td>\n",
       "      <td>42</td>\n",
       "      <td>21</td>\n",
       "      <td>18.700184</td>\n",
       "      <td>22.609164</td>\n",
       "      <td>6.530700</td>\n",
       "    </tr>\n",
       "    <tr>\n",
       "      <th>651165</th>\n",
       "      <td>4166</td>\n",
       "      <td>2607</td>\n",
       "      <td>42</td>\n",
       "      <td>21</td>\n",
       "      <td>18.700184</td>\n",
       "      <td>36.179164</td>\n",
       "      <td>6.099381</td>\n",
       "    </tr>\n",
       "    <tr>\n",
       "      <th>651166</th>\n",
       "      <td>4166</td>\n",
       "      <td>1759</td>\n",
       "      <td>42</td>\n",
       "      <td>21</td>\n",
       "      <td>18.700184</td>\n",
       "      <td>96.809164</td>\n",
       "      <td>-4.284099</td>\n",
       "    </tr>\n",
       "    <tr>\n",
       "      <th>651167</th>\n",
       "      <td>4166</td>\n",
       "      <td>1017</td>\n",
       "      <td>42</td>\n",
       "      <td>21</td>\n",
       "      <td>18.700184</td>\n",
       "      <td>20.289164</td>\n",
       "      <td>-5.488111</td>\n",
       "    </tr>\n",
       "  </tbody>\n",
       "</table>\n",
       "<p>651168 rows × 7 columns</p>\n",
       "</div>"
      ],
      "text/plain": [
       "        drug_row  drug_col  cell_line_name  study_id     ri_row     ri_col  \\\n",
       "0           4065       274               0        12 -21.079400  17.392589   \n",
       "1           2224      1810               1        23 -20.043000  25.595000   \n",
       "2           2224       493               1        23  -9.776000  29.111000   \n",
       "3           1717       274               0        12  -4.051616  17.392589   \n",
       "4           1551      2949               2         5   1.966000  25.537000   \n",
       "...          ...       ...             ...       ...        ...        ...   \n",
       "651163      4166      4243              42        21  18.700184  19.589164   \n",
       "651164      4166      3502              42        21  18.700184  22.609164   \n",
       "651165      4166      2607              42        21  18.700184  36.179164   \n",
       "651166      4166      1759              42        21  18.700184  96.809164   \n",
       "651167      4166      1017              42        21  18.700184  20.289164   \n",
       "\n",
       "        synergy_loewe  \n",
       "0            4.436431  \n",
       "1          -44.555935  \n",
       "2          -37.189720  \n",
       "3           10.755529  \n",
       "4           -8.644502  \n",
       "...               ...  \n",
       "651163     -10.017628  \n",
       "651164       6.530700  \n",
       "651165       6.099381  \n",
       "651166      -4.284099  \n",
       "651167      -5.488111  \n",
       "\n",
       "[651168 rows x 7 columns]"
      ]
     },
     "execution_count": 7,
     "metadata": {},
     "output_type": "execute_result"
    }
   ],
   "source": [
    "summary"
   ]
  },
  {
   "cell_type": "code",
   "execution_count": 8,
   "id": "d3c71034-fc17-4553-9ac1-c4f4bfc30b8a",
   "metadata": {},
   "outputs": [
    {
     "data": {
      "image/png": "[encoded data removed]",
      "text/plain": [
       "<Figure size 1200x600 with 2 Axes>"
      ]
     },
     "metadata": {},
     "output_type": "display_data"
    }
   ],
   "source": [
    "img1 = mpimg.imread('ri_cnt.png')  # Update with the path to your first image\n",
    "img2 = mpimg.imread('syn_cnt.png')  # Update with the path to your second image\n",
    "\n",
    "# Set up the subplots\n",
    "fig, axes = plt.subplots(1, 2, figsize=(12, 6))  # 1 row, 2 columns\n",
    "\n",
    "# Plot the first image\n",
    "axes[0].imshow(img1)\n",
    "axes[0].set_title('Distribution of Monotherapy Sensitivity')\n",
    "axes[0].axis('off')\n",
    "\n",
    "# Plot the second image\n",
    "axes[1].imshow(img2)\n",
    "axes[1].set_title('Distribution of Combination Synergy Score')\n",
    "axes[1].axis('off')  \n",
    "\n",
    "# Display the plot\n",
    "plt.tight_layout()\n",
    "plt.show()"
   ]
  },
  {
   "cell_type": "markdown",
   "id": "05e00a90-b57b-47c5-ac39-1190942ca2ed",
   "metadata": {},
   "source": [
    "In drug efficacy studies, synergy score is used to understand how different drug combinations or dosages affect the inhibition of cell growth. Values greater than zero on the x-axis indicate that combination therapy is more effective than monotherapy, as it leads to higher inhibition. Conversely, values less than zero would suggest that monotherapy is relatively more effective. "
   ]
  },
  {
   "cell_type": "code",
   "execution_count": 9,
   "id": "3d5c1e0f-6a5c-48dc-a55f-27cf05495914",
   "metadata": {},
   "outputs": [
    {
     "name": "stdout",
     "output_type": "stream",
     "text": [
      "False\n",
      "False\n"
     ]
    }
   ],
   "source": [
    "missing_in_drug_row = summary['drug_row'].isna().any()\n",
    "missing_in_drug_col = summary['drug_col'].isna().any()\n",
    "print(missing_in_drug_row)\n",
    "print(missing_in_drug_col)"
   ]
  },
  {
   "cell_type": "code",
   "execution_count": 10,
   "id": "9fe1b692-ff0c-481b-9520-64a892369fbc",
   "metadata": {},
   "outputs": [
    {
     "data": {
      "text/html": [
       "<div>\n",
       "<style scoped>\n",
       "    .dataframe tbody tr th:only-of-type {\n",
       "        vertical-align: middle;\n",
       "    }\n",
       "\n",
       "    .dataframe tbody tr th {\n",
       "        vertical-align: top;\n",
       "    }\n",
       "\n",
       "    .dataframe thead th {\n",
       "        text-align: right;\n",
       "    }\n",
       "</style>\n",
       "<table border=\"1\" class=\"dataframe\">\n",
       "  <thead>\n",
       "    <tr style=\"text-align: right;\">\n",
       "      <th></th>\n",
       "      <th>smiles</th>\n",
       "      <th>fps</th>\n",
       "      <th>gene_id</th>\n",
       "    </tr>\n",
       "    <tr>\n",
       "      <th>id</th>\n",
       "      <th></th>\n",
       "      <th></th>\n",
       "      <th></th>\n",
       "    </tr>\n",
       "  </thead>\n",
       "  <tbody>\n",
       "    <tr>\n",
       "      <th>1</th>\n",
       "      <td>[24, 5, 28, 24, 24, 28, 24, 29, 24, 28, 24, 5,...</td>\n",
       "      <td>[0, 0, 0, 0, 0, 0, 0, 0, 0, 0, 0, 0, 0, 0, 0, ...</td>\n",
       "      <td>[11961, 7269, 21906, 5278, 22355, 2852, 7649, ...</td>\n",
       "    </tr>\n",
       "    <tr>\n",
       "      <th>4</th>\n",
       "      <td>[24, 24, 5, 28, 24, 29, 24, 29, 28, 24, 24, 28...</td>\n",
       "      <td>[0, 0, 0, 0, 0, 0, 0, 0, 0, 0, 0, 0, 0, 0, 0, ...</td>\n",
       "      <td>[5461, 11980, 19874, 22608]</td>\n",
       "    </tr>\n",
       "    <tr>\n",
       "      <th>7</th>\n",
       "      <td>[24, 24, 29, 24, 5, 28, 24, 24, 28, 24, 24, 28...</td>\n",
       "      <td>[0, 0, 0, 0, 0, 0, 0, 0, 0, 0, 0, 0, 0, 0, 0, ...</td>\n",
       "      <td>[]</td>\n",
       "    </tr>\n",
       "    <tr>\n",
       "      <th>10</th>\n",
       "      <td>[24, 5, 24, 29, 24, 27, 5, 24, 29, 28, 32, 35,...</td>\n",
       "      <td>[0, 0, 0, 0, 0, 0, 0, 0, 1, 0, 0, 1, 0, 0, 0, ...</td>\n",
       "      <td>[]</td>\n",
       "    </tr>\n",
       "    <tr>\n",
       "      <th>32</th>\n",
       "      <td>[24, 27, 5, 24, 17, 24, 24, 24, 5, 24, 24, 29,...</td>\n",
       "      <td>[0, 0, 0, 0, 0, 0, 0, 0, 0, 0, 0, 0, 0, 0, 0, ...</td>\n",
       "      <td>[11961, 23506, 22608, 4594, 22640, 7649, 3348,...</td>\n",
       "    </tr>\n",
       "    <tr>\n",
       "      <th>...</th>\n",
       "      <td>...</td>\n",
       "      <td>...</td>\n",
       "      <td>...</td>\n",
       "    </tr>\n",
       "    <tr>\n",
       "      <th>4214</th>\n",
       "      <td>[24, 24, 5, 28, 24, 29, 26, 24, 29, 28, 27, 5,...</td>\n",
       "      <td>[0, 0, 0, 0, 0, 0, 0, 0, 0, 0, 0, 0, 0, 0, 0, ...</td>\n",
       "      <td>[11961, 4594, 20873, 15614, 22986, 21906, 7524...</td>\n",
       "    </tr>\n",
       "    <tr>\n",
       "      <th>4223</th>\n",
       "      <td>[24, 24, 29, 24, 5, 28, 24, 24, 28, 24, 24, 28...</td>\n",
       "      <td>[0, 0, 0, 0, 0, 0, 0, 0, 0, 0, 0, 0, 0, 0, 0, ...</td>\n",
       "      <td>[19030]</td>\n",
       "    </tr>\n",
       "    <tr>\n",
       "      <th>4237</th>\n",
       "      <td>[24, 32, 24, 5, 28, 24, 29, 24, 28, 24, 17, 24...</td>\n",
       "      <td>[0, 0, 0, 0, 0, 0, 0, 0, 0, 0, 0, 0, 0, 0, 0, ...</td>\n",
       "      <td>[20181, 3762, 22292, 22381]</td>\n",
       "    </tr>\n",
       "    <tr>\n",
       "      <th>4254</th>\n",
       "      <td>[24, 24, 5, 28, 24, 29, 24, 17, 28, 24, 29, 27...</td>\n",
       "      <td>[0, 0, 0, 0, 0, 0, 0, 0, 0, 0, 0, 0, 0, 0, 0, ...</td>\n",
       "      <td>[]</td>\n",
       "    </tr>\n",
       "    <tr>\n",
       "      <th>4266</th>\n",
       "      <td>[24, 24, 29, 24, 35, 26, 29, 28, 32, 35, 29, 2...</td>\n",
       "      <td>[0, 0, 0, 0, 0, 0, 0, 0, 0, 0, 0, 0, 0, 0, 0, ...</td>\n",
       "      <td>[13063, 17930, 2964, 324]</td>\n",
       "    </tr>\n",
       "  </tbody>\n",
       "</table>\n",
       "<p>499 rows × 3 columns</p>\n",
       "</div>"
      ],
      "text/plain": [
       "                                                 smiles  \\\n",
       "id                                                        \n",
       "1     [24, 5, 28, 24, 24, 28, 24, 29, 24, 28, 24, 5,...   \n",
       "4     [24, 24, 5, 28, 24, 29, 24, 29, 28, 24, 24, 28...   \n",
       "7     [24, 24, 29, 24, 5, 28, 24, 24, 28, 24, 24, 28...   \n",
       "10    [24, 5, 24, 29, 24, 27, 5, 24, 29, 28, 32, 35,...   \n",
       "32    [24, 27, 5, 24, 17, 24, 24, 24, 5, 24, 24, 29,...   \n",
       "...                                                 ...   \n",
       "4214  [24, 24, 5, 28, 24, 29, 26, 24, 29, 28, 27, 5,...   \n",
       "4223  [24, 24, 29, 24, 5, 28, 24, 24, 28, 24, 24, 28...   \n",
       "4237  [24, 32, 24, 5, 28, 24, 29, 24, 28, 24, 17, 24...   \n",
       "4254  [24, 24, 5, 28, 24, 29, 24, 17, 28, 24, 29, 27...   \n",
       "4266  [24, 24, 29, 24, 35, 26, 29, 28, 32, 35, 29, 2...   \n",
       "\n",
       "                                                    fps  \\\n",
       "id                                                        \n",
       "1     [0, 0, 0, 0, 0, 0, 0, 0, 0, 0, 0, 0, 0, 0, 0, ...   \n",
       "4     [0, 0, 0, 0, 0, 0, 0, 0, 0, 0, 0, 0, 0, 0, 0, ...   \n",
       "7     [0, 0, 0, 0, 0, 0, 0, 0, 0, 0, 0, 0, 0, 0, 0, ...   \n",
       "10    [0, 0, 0, 0, 0, 0, 0, 0, 1, 0, 0, 1, 0, 0, 0, ...   \n",
       "32    [0, 0, 0, 0, 0, 0, 0, 0, 0, 0, 0, 0, 0, 0, 0, ...   \n",
       "...                                                 ...   \n",
       "4214  [0, 0, 0, 0, 0, 0, 0, 0, 0, 0, 0, 0, 0, 0, 0, ...   \n",
       "4223  [0, 0, 0, 0, 0, 0, 0, 0, 0, 0, 0, 0, 0, 0, 0, ...   \n",
       "4237  [0, 0, 0, 0, 0, 0, 0, 0, 0, 0, 0, 0, 0, 0, 0, ...   \n",
       "4254  [0, 0, 0, 0, 0, 0, 0, 0, 0, 0, 0, 0, 0, 0, 0, ...   \n",
       "4266  [0, 0, 0, 0, 0, 0, 0, 0, 0, 0, 0, 0, 0, 0, 0, ...   \n",
       "\n",
       "                                                gene_id  \n",
       "id                                                       \n",
       "1     [11961, 7269, 21906, 5278, 22355, 2852, 7649, ...  \n",
       "4                           [5461, 11980, 19874, 22608]  \n",
       "7                                                    []  \n",
       "10                                                   []  \n",
       "32    [11961, 23506, 22608, 4594, 22640, 7649, 3348,...  \n",
       "...                                                 ...  \n",
       "4214  [11961, 4594, 20873, 15614, 22986, 21906, 7524...  \n",
       "4223                                            [19030]  \n",
       "4237                        [20181, 3762, 22292, 22381]  \n",
       "4254                                                 []  \n",
       "4266                          [13063, 17930, 2964, 324]  \n",
       "\n",
       "[499 rows x 3 columns]"
      ]
     },
     "execution_count": 10,
     "metadata": {},
     "output_type": "execute_result"
    }
   ],
   "source": [
    "# Drug features\n",
    "drug_features = pickle.load(open('drug_features.p', 'rb'))\n",
    "drug_features"
   ]
  },
  {
   "cell_type": "code",
   "execution_count": 11,
   "id": "b60d8ff6-562d-4d6c-87ac-cedea438efda",
   "metadata": {},
   "outputs": [
    {
     "name": "stdout",
     "output_type": "stream",
     "text": [
      "False\n",
      "False\n"
     ]
    }
   ],
   "source": [
    "missing_in_drug_fps = drug_features['fps'].isna().any()\n",
    "missing_in_drug_smiles = drug_features['smiles'].isna().any()\n",
    "print(missing_in_drug_fps)\n",
    "print(missing_in_drug_smiles)"
   ]
  },
  {
   "cell_type": "code",
   "execution_count": 12,
   "id": "5128370e-597a-49a2-af4a-ed6da5023359",
   "metadata": {},
   "outputs": [
    {
     "data": {
      "text/html": [
       "<div>\n",
       "<style scoped>\n",
       "    .dataframe tbody tr th:only-of-type {\n",
       "        vertical-align: middle;\n",
       "    }\n",
       "\n",
       "    .dataframe tbody tr th {\n",
       "        vertical-align: top;\n",
       "    }\n",
       "\n",
       "    .dataframe thead th {\n",
       "        text-align: right;\n",
       "    }\n",
       "</style>\n",
       "<table border=\"1\" class=\"dataframe\">\n",
       "  <thead>\n",
       "    <tr style=\"text-align: right;\">\n",
       "      <th></th>\n",
       "      <th>tissue_id</th>\n",
       "      <th>disease_id</th>\n",
       "      <th>gene_id</th>\n",
       "    </tr>\n",
       "    <tr>\n",
       "      <th>cell_id</th>\n",
       "      <th></th>\n",
       "      <th></th>\n",
       "      <th></th>\n",
       "    </tr>\n",
       "  </thead>\n",
       "  <tbody>\n",
       "    <tr>\n",
       "      <th>0</th>\n",
       "      <td>0</td>\n",
       "      <td>0</td>\n",
       "      <td>{23059: 0.06775902532313936, 14106: -0.1630840...</td>\n",
       "    </tr>\n",
       "    <tr>\n",
       "      <th>1</th>\n",
       "      <td>1</td>\n",
       "      <td>1</td>\n",
       "      <td>{}</td>\n",
       "    </tr>\n",
       "    <tr>\n",
       "      <th>2</th>\n",
       "      <td>2</td>\n",
       "      <td>2</td>\n",
       "      <td>{23059: 0.06775902532313936, 14106: -0.1630840...</td>\n",
       "    </tr>\n",
       "    <tr>\n",
       "      <th>3</th>\n",
       "      <td>1</td>\n",
       "      <td>3</td>\n",
       "      <td>{23059: 0.7631806010079909, 14106: -0.16308409...</td>\n",
       "    </tr>\n",
       "    <tr>\n",
       "      <th>4</th>\n",
       "      <td>0</td>\n",
       "      <td>4</td>\n",
       "      <td>{}</td>\n",
       "    </tr>\n",
       "    <tr>\n",
       "      <th>...</th>\n",
       "      <td>...</td>\n",
       "      <td>...</td>\n",
       "      <td>...</td>\n",
       "    </tr>\n",
       "    <tr>\n",
       "      <th>267</th>\n",
       "      <td>13</td>\n",
       "      <td>41</td>\n",
       "      <td>{23059: -0.6276625503617121, 14106: -0.1630840...</td>\n",
       "    </tr>\n",
       "    <tr>\n",
       "      <th>270</th>\n",
       "      <td>6</td>\n",
       "      <td>16</td>\n",
       "      <td>{23059: -0.6276625503617121, 14106: 0.95931818...</td>\n",
       "    </tr>\n",
       "    <tr>\n",
       "      <th>280</th>\n",
       "      <td>16</td>\n",
       "      <td>51</td>\n",
       "      <td>{23059: -0.6276625503617121, 14106: -0.1630840...</td>\n",
       "    </tr>\n",
       "    <tr>\n",
       "      <th>281</th>\n",
       "      <td>3</td>\n",
       "      <td>7</td>\n",
       "      <td>{23059: 2.154023752377694, 14106: -0.163084091...</td>\n",
       "    </tr>\n",
       "    <tr>\n",
       "      <th>282</th>\n",
       "      <td>3</td>\n",
       "      <td>7</td>\n",
       "      <td>{23059: 0.06775902532313936, 14106: -0.1630840...</td>\n",
       "    </tr>\n",
       "  </tbody>\n",
       "</table>\n",
       "<p>208 rows × 3 columns</p>\n",
       "</div>"
      ],
      "text/plain": [
       "         tissue_id  disease_id  \\\n",
       "cell_id                          \n",
       "0                0           0   \n",
       "1                1           1   \n",
       "2                2           2   \n",
       "3                1           3   \n",
       "4                0           4   \n",
       "...            ...         ...   \n",
       "267             13          41   \n",
       "270              6          16   \n",
       "280             16          51   \n",
       "281              3           7   \n",
       "282              3           7   \n",
       "\n",
       "                                                   gene_id  \n",
       "cell_id                                                     \n",
       "0        {23059: 0.06775902532313936, 14106: -0.1630840...  \n",
       "1                                                       {}  \n",
       "2        {23059: 0.06775902532313936, 14106: -0.1630840...  \n",
       "3        {23059: 0.7631806010079909, 14106: -0.16308409...  \n",
       "4                                                       {}  \n",
       "...                                                    ...  \n",
       "267      {23059: -0.6276625503617121, 14106: -0.1630840...  \n",
       "270      {23059: -0.6276625503617121, 14106: 0.95931818...  \n",
       "280      {23059: -0.6276625503617121, 14106: -0.1630840...  \n",
       "281      {23059: 2.154023752377694, 14106: -0.163084091...  \n",
       "282      {23059: 0.06775902532313936, 14106: -0.1630840...  \n",
       "\n",
       "[208 rows x 3 columns]"
      ]
     },
     "execution_count": 12,
     "metadata": {},
     "output_type": "execute_result"
    }
   ],
   "source": [
    "# Cell line features\n",
    "cell_features = pickle.load(open('cell_features.p', 'rb'))\n",
    "cell_features"
   ]
  },
  {
   "cell_type": "code",
   "execution_count": 13,
   "id": "ebbac35d-b50d-42c6-8142-b1912b05af00",
   "metadata": {},
   "outputs": [
    {
     "data": {
      "image/png": "[encoded data removed]",
      "text/plain": [
       "<Figure size 600x600 with 1 Axes>"
      ]
     },
     "metadata": {},
     "output_type": "display_data"
    }
   ],
   "source": [
    "img = mpimg.imread('tissue_num_cell.png')\n",
    "plt.figure(figsize=(6,6)) \n",
    "plt.imshow(img)\n",
    "plt.title('Distribution of Cell Lines by Tissue Type')\n",
    "plt.axis('off')\n",
    "plt.show()"
   ]
  },
  {
   "cell_type": "markdown",
   "id": "6f64183c-c5dd-49b2-a818-ab8ce9263c6a",
   "metadata": {},
   "source": [
    "Data-rich tissues include hematopoietic and lymphoid, lung, skin, ovary, kidney, brain, breast, and colon, which have more than 20 000 drug combination tests with more than 5 different cell lines per each tissue. Data-poor tissues include prostate and bone, which have less than 15 000 drug combination tests within less than 3 cell lines per tissues."
   ]
  },
  {
   "cell_type": "code",
   "execution_count": 14,
   "id": "efb8a86a-cb24-4c55-b799-6b5409429bbf",
   "metadata": {},
   "outputs": [
    {
     "name": "stdout",
     "output_type": "stream",
     "text": [
      "False\n",
      "False\n"
     ]
    }
   ],
   "source": [
    "missing_in_cell_tissue = cell_features['tissue_id'].isna().any()\n",
    "missing_in_cell_disease = cell_features['disease_id'].isna().any()\n",
    "print(missing_in_cell_tissue)\n",
    "print(missing_in_cell_disease)"
   ]
  },
  {
   "cell_type": "code",
   "execution_count": 48,
   "id": "b148d5a5-75dd-4321-996c-bbf46a8016a3",
   "metadata": {},
   "outputs": [
    {
     "name": "stdout",
     "output_type": "stream",
     "text": [
      "Summary of Dataset:\n",
      "Number of Cell Lines: 288\n",
      "Number of Drugs: 4268\n",
      "Number of Genes: 24356\n",
      "Number of Tissues: 17\n",
      "Number of Diseases: 52\n",
      "Number of Drug Fingerprints: 167\n",
      "Maximum SMILES String Length: 364\n"
     ]
    }
   ],
   "source": [
    "num_celllines = len(codes['cell'].idx2item)\n",
    "num_drugs = len(codes['drugs'].idx2item)\n",
    "num_genes = len(codes['gene'].idx2item)\n",
    "num_tissue = len(codes['tissue'].idx2item)\n",
    "num_disease = len(codes['disease'].idx2item)\n",
    "num_drug_fp = len(drug_features.iloc[0]['fps'])\n",
    "max_drug_sm_len = drug_features['smiles'].apply(lambda x: len(x)).max()\n",
    "\n",
    "print(f\"Summary of Dataset:\")\n",
    "print(f\"Number of Cell Lines: {num_celllines}\")\n",
    "print(f\"Number of Drugs: {num_drugs}\")\n",
    "print(f\"Number of Genes: {num_genes}\")\n",
    "print(f\"Number of Tissues: {num_tissue}\")\n",
    "print(f\"Number of Diseases: {num_disease}\")\n",
    "print(f\"Number of Drug Fingerprints: {num_drug_fp}\")\n",
    "print(f\"Maximum SMILES String Length: {max_drug_sm_len}\")"
   ]
  },
  {
   "cell_type": "code",
   "execution_count": 49,
   "id": "566cafab-0379-4e25-abd6-8d8dee6eb99c",
   "metadata": {},
   "outputs": [],
   "source": [
    "summary_filtered = summary[\n",
    "    summary['drug_row'].isin(drug_features.index) & \n",
    "    summary['drug_col'].isin(drug_features.index) &\n",
    "    summary['cell_line_name'].isin(cell_features.index)\n",
    "].reset_index(drop=True)"
   ]
  },
  {
   "cell_type": "code",
   "execution_count": 17,
   "id": "f5770380-d2b0-488a-9001-e565392a9fb5",
   "metadata": {},
   "outputs": [],
   "source": [
    "d1 = summary_filtered.iloc[100,0]"
   ]
  },
  {
   "cell_type": "code",
   "execution_count": 18,
   "id": "ab2f9f02-6402-4450-9e44-a32b00676789",
   "metadata": {},
   "outputs": [
    {
     "data": {
      "text/plain": [
       "array([0, 0, 0, 0, 0, 0, 0, 0, 0, 0, 0, 0, 0, 0, 0, 0, 0, 0, 0, 0, 0, 0,\n",
       "       0, 0, 0, 1, 0, 0, 0, 0, 0, 0, 0, 0, 0, 0, 0, 0, 0, 0, 0, 0, 0, 0,\n",
       "       0, 0, 0, 0, 0, 0, 0, 0, 0, 0, 0, 0, 0, 0, 0, 0, 0, 0, 1, 0, 0, 1,\n",
       "       0, 0, 0, 0, 0, 0, 0, 0, 0, 1, 0, 1, 0, 0, 1, 0, 0, 1, 1, 1, 1, 1,\n",
       "       0, 0, 1, 0, 0, 1, 0, 1, 1, 1, 1, 0, 1, 1, 0, 1, 1, 1, 1, 1, 0, 0,\n",
       "       0, 1, 0, 1, 0, 0, 0, 0, 1, 0, 1, 1, 1, 0, 0, 1, 1, 1, 1, 1, 0, 1,\n",
       "       0, 1, 1, 1, 0, 1, 1, 0, 0, 0, 1, 1, 1, 1, 0, 1, 1, 0, 1, 1, 1, 1,\n",
       "       0, 0, 1, 1, 1, 0, 1, 1, 1, 1, 1, 1, 0])"
      ]
     },
     "execution_count": 18,
     "metadata": {},
     "output_type": "execute_result"
    }
   ],
   "source": [
    "np.array(drug_features.loc[d1, 'fps'])"
   ]
  },
  {
   "cell_type": "markdown",
   "id": "5188ef1d-7e22-4b2a-a755-baa71041963c",
   "metadata": {},
   "source": [
    "# Gene Compression - Dataset and DataLoader"
   ]
  },
  {
   "cell_type": "code",
   "execution_count": 19,
   "id": "1eefdc60-82c2-46e5-a274-761133bb0c45",
   "metadata": {},
   "outputs": [],
   "source": [
    "class DrugTargetDataset(Dataset):\n",
    "    def __init__(self, drug_features):\n",
    "        self.drug_features = drug_features\n",
    "        self.drug_features.reset_index(drop=True, inplace=True)\n",
    "        \n",
    "    def __len__(self):\n",
    "        return len(self.drug_features)\n",
    "        \n",
    "    def __getitem__(self,idx):\n",
    "        gene_ids = self.drug_features.loc[idx, 'gene_id']\n",
    "        genes = np.zeros(num_genes)\n",
    "        genes[gene_ids] = 1      \n",
    "        return genes\n",
    "    \n",
    "class CellGeneDataset(Dataset):\n",
    "    def __init__(self, cell_features):\n",
    "        self.cell_features = cell_features\n",
    "        \n",
    "    def __len__(self):\n",
    "        return len(self.cell_features)\n",
    "        \n",
    "    def __getitem__(self,idx):\n",
    "        gene_ids = self.cell_features.loc[idx,'gene_id']\n",
    "        genes = np.zeros(num_genes)\n",
    "        for key,value in gene_ids.items():\n",
    "            genes[key] = value\n",
    "            \n",
    "        return genes"
   ]
  },
  {
   "cell_type": "code",
   "execution_count": 20,
   "id": "4d702141-6c28-4f40-9197-62141503026d",
   "metadata": {},
   "outputs": [],
   "source": [
    "#Two layers of fully connected layers\n",
    "class FC2(nn.Module):\n",
    "    def __init__(self, in_features, out_features, dropout):\n",
    "        super(FC2, self).__init__()\n",
    "        \n",
    "        self.bn = nn.BatchNorm1d(in_features)\n",
    "        self.fc1 = nn.Linear(in_features, int(in_features/2))\n",
    "        self.fc2 = nn.Linear(int(in_features/2),out_features)\n",
    "        self.dropout = nn.Dropout(dropout)\n",
    "                \n",
    "    def forward(self, x):\n",
    "        x = self.bn(x)\n",
    "        x = self.dropout(x)\n",
    "        x = self.dropout(F.relu(self.fc1(x)))\n",
    "        x = self.fc2(x)\n",
    "        \n",
    "        return x"
   ]
  },
  {
   "cell_type": "markdown",
   "id": "5ff2e40c-01e9-4fcc-9e13-95bd5059d0b0",
   "metadata": {},
   "source": [
    "# Compress Gene Features"
   ]
  },
  {
   "cell_type": "code",
   "execution_count": 21,
   "id": "6b469d14-6c2d-49b3-91d4-6b43deb0d915",
   "metadata": {},
   "outputs": [],
   "source": [
    "class GeneCompressor(nn.Module):\n",
    "    def __init__(self, num_in, num_out, dropout=0.1):\n",
    "        super(GeneCompressor, self).__init__()\n",
    "        self.dropout = dropout\n",
    "        self.encoder = nn.Linear(num_in, num_out)\n",
    "        self.decoder = nn.Linear(num_out,num_in)\n",
    "\n",
    "    def _encoder(self,x):\n",
    "        return F.dropout(F.relu(self.encoder(x)), self.dropout, training=self.training)\n",
    "    \n",
    "    def _decoder(self,x):\n",
    "        return F.dropout(self.decoder(x), self.dropout, training=self.training)\n",
    "    \n",
    "    def forward(self, x):\n",
    "        x = self._encoder(x)\n",
    "        x = self._decoder(x)\n",
    "        return x\n",
    "        \n",
    "    def encode_genes(self, genes):\n",
    "        self.eval()  # Set the model to evaluation mode\n",
    "        with torch.no_grad():  # No need to track gradients\n",
    "            encoded_genes = self._encoder(genes)\n",
    "        return encoded_genes.cpu().data.numpy()"
   ]
  },
  {
   "cell_type": "code",
   "execution_count": 22,
   "id": "6f389abf-c061-4a94-9efc-28d767889f46",
   "metadata": {},
   "outputs": [],
   "source": [
    "def geneCompressing(data_loader,num_gene_compressed, noise_weight=0.2, epochs=20, log_interval=10 ):\n",
    "    #model\n",
    "    geneCompressor = GeneCompressor(num_genes, num_out=num_gene_compressed, dropout=0.1)\n",
    "    \n",
    "    criterion = nn.MSELoss()\n",
    "    optimizer = optim.Adam(geneCompressor.parameters())\n",
    "\n",
    "    for epoch in range(1, epochs + 1):\n",
    "        #train\n",
    "        geneCompressor.train()\n",
    "        total_loss = 0\n",
    "        start_time = time.time()\n",
    "        for iteration, gene in enumerate(data_loader):\n",
    "            gene = Variable(gene).float()\n",
    "            noise = noise_weight*torch.randn(gene.shape)\n",
    "\n",
    "            optimizer.zero_grad()\n",
    "            output = geneCompressor(gene+noise)\n",
    "            loss = criterion(output,gene)\n",
    "            loss.backward()\n",
    "            optimizer.step()\n",
    "            total_loss += loss.data\n",
    "            \n",
    "            if iteration % log_interval == 0 and iteration > 0:\n",
    "                cur_loss = total_loss.item() / log_interval\n",
    "                elapsed = time.time() - start_time\n",
    "                print('| epoch {:3d} | {:5d}/{:5d} batches | ms/batch {:5.2f} | loss {:8.5f}'.format(epoch, iteration, int(len(data_loader)/bsz), elapsed * 1000/log_interval, cur_loss))\n",
    "                total_loss = 0\n",
    "                start_time = time.time()\n",
    "        '''        \n",
    "         #test\n",
    "    geneCompressor.eval()\n",
    "    total_loss = 0\n",
    "    start_time = time.time()\n",
    "    with torch.no_grad():\n",
    "        for iteration, gene in enumerate(test_data_loader):\n",
    "            gene = Variable(gene).float()\n",
    "            output = geneCompressor(gene)\n",
    "            loss = criterion(output,gene)\n",
    "            total_loss += loss.data\n",
    "        print(total_loss.item()/iteration)\n",
    "      '''       \n",
    "    return geneCompressor"
   ]
  },
  {
   "cell_type": "code",
   "execution_count": 23,
   "id": "a3bcca09-77b0-49b8-90b9-81e464b46322",
   "metadata": {},
   "outputs": [],
   "source": [
    "#drug's target gene data\n",
    "drugGeneDataset = DrugTargetDataset(drug_features)\n",
    "drugGeneDataset_loader = DataLoader(drugGeneDataset, batch_size=64, shuffle=True)\n",
    "\n",
    "#learn\n",
    "drugGeneCompressor = geneCompressing(drugGeneDataset_loader, num_gene_compressed_drug)\n",
    "\n",
    "#save\n",
    "drugGeneCompressor.eval()\n",
    "drugGeneCompressed = np.array([drugGeneCompressor.encode_genes(torch.FloatTensor(drugGeneDataset[d])) for d in range(len(drugGeneDataset))])\n",
    "torch.save(drugGeneCompressor.state_dict(), 'drugGeneCompressor.p')\n",
    "pickle.dump(drugGeneCompressed, open('drugGeneCompressed.p', 'wb'))"
   ]
  },
  {
   "cell_type": "code",
   "execution_count": 24,
   "id": "0638d70c-6aea-4a7e-a4b8-9364ed1ab715",
   "metadata": {},
   "outputs": [],
   "source": [
    "drugGeneCompressed = pickle.load(open('drugGeneCompressed.p', 'rb'))\n",
    "drugGeneCompressed = torch.FloatTensor(drugGeneCompressed)"
   ]
  },
  {
   "cell_type": "code",
   "execution_count": 25,
   "id": "425f6e4b-69e4-4d1e-993a-63af5dd215e6",
   "metadata": {},
   "outputs": [
    {
     "name": "stdout",
     "output_type": "stream",
     "text": [
      "| epoch   1 |     1/    0 batches | ms/batch 549.99 | loss  2.56841\n",
      "| epoch   1 |     2/    0 batches | ms/batch 274.32 | loss  1.64460\n",
      "| epoch   1 |     3/    0 batches | ms/batch 128.82 | loss  2.07364\n",
      "| epoch   2 |     1/    0 batches | ms/batch 546.82 | loss  3.29773\n",
      "| epoch   2 |     2/    0 batches | ms/batch 281.07 | loss  1.99038\n",
      "| epoch   2 |     3/    0 batches | ms/batch 91.86 | loss  1.88550\n",
      "| epoch   3 |     1/    0 batches | ms/batch 516.67 | loss  3.05067\n",
      "| epoch   3 |     2/    0 batches | ms/batch 287.37 | loss  2.26329\n",
      "| epoch   3 |     3/    0 batches | ms/batch 97.91 | loss  1.47983\n",
      "| epoch   4 |     1/    0 batches | ms/batch 579.77 | loss  2.90889\n",
      "| epoch   4 |     2/    0 batches | ms/batch 249.99 | loss  1.62934\n",
      "| epoch   4 |     3/    0 batches | ms/batch 108.08 | loss  1.14370\n",
      "| epoch   5 |     1/    0 batches | ms/batch 551.25 | loss  2.71345\n",
      "| epoch   5 |     2/    0 batches | ms/batch 255.15 | loss  1.26369\n",
      "| epoch   5 |     3/    0 batches | ms/batch 125.80 | loss  1.98887\n",
      "| epoch   6 |     1/    0 batches | ms/batch 597.47 | loss  2.45436\n",
      "| epoch   6 |     2/    0 batches | ms/batch 326.10 | loss  1.29152\n",
      "| epoch   6 |     3/    0 batches | ms/batch 105.60 | loss  1.04092\n",
      "| epoch   7 |     1/    0 batches | ms/batch 550.75 | loss  2.48308\n",
      "| epoch   7 |     2/    0 batches | ms/batch 309.98 | loss  0.99002\n",
      "| epoch   7 |     3/    0 batches | ms/batch 121.63 | loss  1.05007\n",
      "| epoch   8 |     1/    0 batches | ms/batch 562.61 | loss  2.10753\n",
      "| epoch   8 |     2/    0 batches | ms/batch 233.91 | loss  1.15360\n",
      "| epoch   8 |     3/    0 batches | ms/batch 125.34 | loss  1.02889\n",
      "| epoch   9 |     1/    0 batches | ms/batch 601.78 | loss  2.16989\n",
      "| epoch   9 |     2/    0 batches | ms/batch 335.99 | loss  0.95335\n",
      "| epoch   9 |     3/    0 batches | ms/batch 135.40 | loss  0.78093\n",
      "| epoch  10 |     1/    0 batches | ms/batch 569.70 | loss  1.84163\n",
      "| epoch  10 |     2/    0 batches | ms/batch 266.27 | loss  1.10705\n",
      "| epoch  10 |     3/    0 batches | ms/batch 107.14 | loss  1.05529\n",
      "| epoch  11 |     1/    0 batches | ms/batch 546.24 | loss  1.92085\n",
      "| epoch  11 |     2/    0 batches | ms/batch 292.27 | loss  0.95387\n",
      "| epoch  11 |     3/    0 batches | ms/batch 103.84 | loss  0.88171\n",
      "| epoch  12 |     1/    0 batches | ms/batch 560.30 | loss  1.73921\n",
      "| epoch  12 |     2/    0 batches | ms/batch 281.19 | loss  1.06579\n",
      "| epoch  12 |     3/    0 batches | ms/batch 117.42 | loss  0.88326\n",
      "| epoch  13 |     1/    0 batches | ms/batch 585.87 | loss  1.78193\n",
      "| epoch  13 |     2/    0 batches | ms/batch 297.03 | loss  0.95712\n",
      "| epoch  13 |     3/    0 batches | ms/batch 113.86 | loss  1.02236\n",
      "| epoch  14 |     1/    0 batches | ms/batch 567.92 | loss  1.86447\n",
      "| epoch  14 |     2/    0 batches | ms/batch 248.41 | loss  0.89373\n",
      "| epoch  14 |     3/    0 batches | ms/batch 129.67 | loss  0.71194\n",
      "| epoch  15 |     1/    0 batches | ms/batch 542.81 | loss  1.77612\n",
      "| epoch  15 |     2/    0 batches | ms/batch 242.58 | loss  0.83700\n",
      "| epoch  15 |     3/    0 batches | ms/batch 114.31 | loss  1.04838\n",
      "| epoch  16 |     1/    0 batches | ms/batch 593.05 | loss  1.75422\n",
      "| epoch  16 |     2/    0 batches | ms/batch 284.89 | loss  0.86926\n",
      "| epoch  16 |     3/    0 batches | ms/batch 116.20 | loss  0.85696\n",
      "| epoch  17 |     1/    0 batches | ms/batch 524.13 | loss  1.68210\n",
      "| epoch  17 |     2/    0 batches | ms/batch 268.72 | loss  0.88375\n",
      "| epoch  17 |     3/    0 batches | ms/batch 126.70 | loss  0.94603\n",
      "| epoch  18 |     1/    0 batches | ms/batch 603.18 | loss  1.62818\n",
      "| epoch  18 |     2/    0 batches | ms/batch 236.24 | loss  0.92956\n",
      "| epoch  18 |     3/    0 batches | ms/batch 116.20 | loss  0.88999\n",
      "| epoch  19 |     1/    0 batches | ms/batch 547.41 | loss  1.79520\n",
      "| epoch  19 |     2/    0 batches | ms/batch 314.05 | loss  0.75573\n",
      "| epoch  19 |     3/    0 batches | ms/batch 92.87 | loss  0.85710\n",
      "| epoch  20 |     1/    0 batches | ms/batch 726.46 | loss  1.74732\n",
      "| epoch  20 |     2/    0 batches | ms/batch 259.43 | loss  0.85191\n",
      "| epoch  20 |     3/    0 batches | ms/batch 123.17 | loss  0.63333\n"
     ]
    }
   ],
   "source": [
    "#cell line's gene expression data\n",
    "cell_features.reset_index(drop=True, inplace=True)\n",
    "cellGeneDataset = CellGeneDataset(cell_features)\n",
    "cellGeneDataset_loader = DataLoader(cellGeneDataset, batch_size=64, shuffle=True)\n",
    "\n",
    "#learn\n",
    "cellGeneCompressor=geneCompressing(cellGeneDataset_loader,num_gene_compressed_cell, noise_weight=0.01, log_interval=1 )\n",
    "\n",
    "#save\n",
    "cellGeneCompressor.eval()\n",
    "cellGeneCompressed = np.array([cellGeneCompressor.cpu()._encoder(torch.FloatTensor(cellGeneDataset[d])).data.numpy() for d in range(len(cellGeneDataset))])\n",
    "torch.save(cellGeneCompressor.state_dict(), 'cellGeneCompressor.p')\n",
    "pickle.dump(cellGeneCompressed, open('cellGeneCompressed.p', 'wb'))"
   ]
  },
  {
   "cell_type": "code",
   "execution_count": 26,
   "id": "444e65fe-fca5-48ac-9eb9-ece9182803bb",
   "metadata": {},
   "outputs": [],
   "source": [
    "cellGeneCompressed = pickle.load(open('cellGeneCompressed.p', 'rb'))\n",
    "cellGeneCompressed = torch.FloatTensor(cellGeneCompressed)"
   ]
  },
  {
   "cell_type": "markdown",
   "id": "62ca2289-b787-4e14-a758-6e17c5b5e5d6",
   "metadata": {},
   "source": [
    "- Train/test split in cross or external validation"
   ]
  },
  {
   "cell_type": "code",
   "execution_count": 27,
   "id": "2492266c-6c6e-4d8d-acbd-31b6b21b295b",
   "metadata": {},
   "outputs": [],
   "source": [
    "def get_cell_of_interest(tissues):\n",
    "    tissues_of_interests = [codes['tissue'].item2idx[minor_tissue] for minor_tissue in tissues]\n",
    "    cell_of_interest = cell_features.index[cell_features['tissue_id'].isin(tissues_of_interests)].tolist()\n",
    "    return cell_of_interest"
   ]
  },
  {
   "cell_type": "markdown",
   "id": "ed7391d9-267d-4937-b330-c108bd4a8195",
   "metadata": {},
   "source": [
    "- Train/test for general model\n",
    "\n"
   ]
  },
  {
   "cell_type": "code",
   "execution_count": 66,
   "id": "60644c3d-e43b-4819-a920-1d4ae705c805",
   "metadata": {},
   "outputs": [],
   "source": [
    "minor_tissues = ['kidney', 'prostate' ]\n",
    "cell_of_interest = get_cell_of_interest(minor_tissues)\n",
    "df_tissue_of_interest = summary_filtered.loc[summary_filtered['cell_line_name'].isin(cell_of_interest),:]\n",
    "df_all = summary_filtered.drop(df_tissue_of_interest.index)\n",
    "#specific database\n",
    "#df_all = df_all.loc[df_all['study_id']==3]\n",
    "\n",
    "#cross validation\n",
    "df_train, df_test = train_test_split(df_all, test_size=0.3) \n",
    "\n",
    "#external validation\n",
    "df_train_almana = df_all\n",
    "df_test_almana = df_all.loc[df_all['study_id']!=3] \n",
    "\n",
    "df_train_oneil = df_all\n",
    "df_test_oneil = df_all.loc[df_all['study_id']!=28] \n",
    "#df_train = df_all.loc[df_all['study_id']==3] 3: 'ALMANAC'\n",
    "#df_test = df_all.loc[df_all['study_id']==1] 1: 'ONEIL'"
   ]
  },
  {
   "cell_type": "markdown",
   "id": "d83bdbc9-e1e8-4873-9de0-12ff41785415",
   "metadata": {},
   "source": [
    "* Train/test for kidney"
   ]
  },
  {
   "cell_type": "code",
   "execution_count": 75,
   "id": "eaaf7a4c-4bc5-47c0-9668-130bf0ecad74",
   "metadata": {},
   "outputs": [],
   "source": [
    "_df_kidney = summary_filtered.loc[summary_filtered['cell_line_name'].isin(get_cell_of_interest(['kidney'])),:]\n",
    "# Cross validation\n",
    "_df_train_kidney, _df_test_kidney = train_test_split(_df_kidney, test_size=0.2, random_state=1)\n",
    "\n",
    "# External validation\n",
    "_df_train_kidney_ex =_df_kidney\n",
    "_df_test_kidney_ex = _df_kidney.loc[_df_kidney['study_id']!=9]\n",
    "#_df_train_bone_ex=_df_bone.loc[_df_bone['study_id']!=9]\n",
    "#_df_test_bone_ex= _df_bone.loc[_df_bone['study_id']==9]"
   ]
  },
  {
   "cell_type": "markdown",
   "id": "a6d54b15-fb97-4b43-a482-9164da04f35d",
   "metadata": {},
   "source": [
    "* Train/test for prostate\n",
    "\n"
   ]
  },
  {
   "cell_type": "code",
   "execution_count": 84,
   "id": "3f2a856e-461b-4b4e-8c7b-6e8a4b1420ca",
   "metadata": {},
   "outputs": [],
   "source": [
    "_df_prostate= summary_filtered.loc[summary_filtered['cell_line_name'].isin(get_cell_of_interest(['prostate'])),:]\n",
    "\n",
    "#Cross validation\n",
    "_df_train_prostate, _df_test_prostate = train_test_split(_df_prostate, test_size=0.2, random_state=1)\n",
    "\n",
    "# External validation\n",
    "_df_train_prostate_ex =_df_prostate\n",
    "_df_test_prostate_ex =_df_prostate.loc[_df_prostate['study_id']!=31]\n",
    "\n",
    "#_df_train_prostate=_df_prostate.loc[_df_prostate['study_id']!=1]\n",
    "#_df_test_prostate=_df_prostate.loc[_df_prostate['study_id']==1]"
   ]
  },
  {
   "cell_type": "markdown",
   "id": "f420c2d6-2f52-4a8a-b927-5986a038ef02",
   "metadata": {},
   "source": [
    "# Dataset and Dataloader"
   ]
  },
  {
   "cell_type": "code",
   "execution_count": 29,
   "id": "7ecdc7ea-a419-4cab-b5e7-6f06326612b2",
   "metadata": {},
   "outputs": [],
   "source": [
    "class DrugCombDataset(Dataset):\n",
    "    def __init__(self, summary_filtered, drug_features, cell_features):\n",
    "        self.summary_filtered = summary_filtered\n",
    "        self.summary_filtered.reset_index(drop=True, inplace=True)\n",
    "        \n",
    "        self.drug_features = drug_features\n",
    "        self.drug_features.reset_index(drop=True, inplace=True)\n",
    "        \n",
    "        self.cell_features = cell_features\n",
    "        self.cell_features.reset_index(drop=True, inplace=True)\n",
    "\n",
    "    def __len__(self):\n",
    "        return len(self.summary_filtered)\n",
    "    \n",
    "    def __getitem__(self, idx):\n",
    "        \n",
    "        d1 = self.summary_filtered.iloc[idx, 0]\n",
    "        d2 = self.summary_filtered.iloc[idx, 1]\n",
    "        cell = self.summary_filtered.iloc[idx,2]\n",
    "        ri_d1 = 1.0 if self.summary_filtered.iloc[idx,3] >ri_threshold else 0\n",
    "        ri_d2 = 1.0 if self.summary_filtered.iloc[idx,4] >ri_threshold else 0\n",
    "        syn = 1.0 if self.summary_filtered.iloc[idx, 5] >syn_threshold else 0\n",
    "        \n",
    "        \n",
    "        #external features\n",
    "        d1_fp = np.array(self.drug_features.loc[d1, 'fps'])\n",
    "        d1_sm = self.drug_features.loc[d1, 'smiles']\n",
    "        d1_sm = np.pad(d1_sm, pad_width=(0, max_drug_sm_len-len(d1_sm)), mode='constant', constant_values=0)\n",
    "        d1_gn=drugGeneCompressed[d1]\n",
    "        \n",
    "        d2_fp = np.array(self.drug_features.loc[d2, 'fps'])\n",
    "        d2_sm = self.drug_features.loc[d2, 'smiles']\n",
    "        d2_sm = np.pad(d2_sm, pad_width=(0, max_drug_sm_len-len(d2_sm)), mode='constant', constant_values=0)\n",
    "        d2_gn=drugGeneCompressed[d2]\n",
    "        \n",
    "        c_ts = self.cell_features.iloc[cell]['tissue_id']\n",
    "        c_ds = self.cell_features.iloc[cell]['disease_id']\n",
    "        c_gn = cellGeneCompressed[cell]\n",
    "        \n",
    "        \n",
    "        sample = {\n",
    "            'd1': d1,\n",
    "            'd1_fp': d1_fp,\n",
    "            'd1_sm': d1_sm,\n",
    "            'd1_gn': d1_gn,\n",
    "            \n",
    "            'd2': d2,\n",
    "            'd2_fp': d2_fp,\n",
    "            'd2_sm': d2_sm,\n",
    "            'd2_gn': d2_gn,\n",
    "            \n",
    "            'cell': cell,\n",
    "            'c_ts': c_ts,\n",
    "            'c_ds': c_ds, #missing -1\n",
    "            'c_gn': c_gn,\n",
    "            \n",
    "            'ri_d1': ri_d1,\n",
    "            'ri_d2': ri_d2,\n",
    "            'syn': syn\n",
    "        }\n",
    "        \n",
    "        return sample"
   ]
  },
  {
   "cell_type": "markdown",
   "id": "7e275954-8184-4410-880b-56ab9f25eccd",
   "metadata": {},
   "source": [
    "- General model datasets"
   ]
  },
  {
   "cell_type": "code",
   "execution_count": 67,
   "id": "5b286cb6-8741-40bc-860b-7e1f8ef0da3e",
   "metadata": {},
   "outputs": [],
   "source": [
    "train = DrugCombDataset(df_train, drug_features, cell_features)\n",
    "train_loader = DataLoader(train, batch_size=bsz, shuffle=True )\n",
    "test = DrugCombDataset(df_test, drug_features, cell_features)\n",
    "test_loader = DataLoader(test, batch_size=bsz, shuffle=True )"
   ]
  },
  {
   "cell_type": "code",
   "execution_count": 61,
   "id": "1de5f55d-4f7a-4232-bd10-c54e3dc514ae",
   "metadata": {},
   "outputs": [],
   "source": [
    "train_almana = DrugCombDataset(df_train_almana, drug_features, cell_features)\n",
    "train_almana_loader = DataLoader(train_almana, batch_size=bsz, shuffle=True )\n",
    "test_almana = DrugCombDataset(df_test_almana, drug_features, cell_features)\n",
    "test_almana_loader = DataLoader(test_almana, batch_size=bsz, shuffle=True )"
   ]
  },
  {
   "cell_type": "code",
   "execution_count": 63,
   "id": "268f0546-e76a-4ddb-bc2d-4fba7cb6d3a5",
   "metadata": {},
   "outputs": [],
   "source": [
    "train_oneil = DrugCombDataset(df_train_oneil, drug_features, cell_features)\n",
    "train_oneil_loader = DataLoader(train_oneil, batch_size=bsz, shuffle=True )\n",
    "test_oneil = DrugCombDataset(df_test_oneil, drug_features, cell_features)\n",
    "test_loader_oneil = DataLoader(test_oneil, batch_size=bsz, shuffle=True )"
   ]
  },
  {
   "cell_type": "markdown",
   "id": "0a5db882-d115-4023-b8de-a6a1460e919a",
   "metadata": {},
   "source": [
    "* Bone"
   ]
  },
  {
   "cell_type": "code",
   "execution_count": 76,
   "id": "3564d14c-4fd2-49dc-bb96-a676ee0d41c1",
   "metadata": {},
   "outputs": [],
   "source": [
    "_train_kidney = DrugCombDataset(_df_train_kidney, drug_features, cell_features)\n",
    "_train_loader_kidney = DataLoader(_train_kidney, batch_size=bsz, shuffle=True )\n",
    "_test_kidney = DrugCombDataset(_df_test_kidney, drug_features, cell_features)\n",
    "_test_loader_kidney = DataLoader(_test_kidney, batch_size=bsz, shuffle=False )"
   ]
  },
  {
   "cell_type": "code",
   "execution_count": 82,
   "id": "bada71c7-11d1-4689-b5ca-bf3a0cc14183",
   "metadata": {},
   "outputs": [],
   "source": [
    "_train_kidney_ex = DrugCombDataset(_df_train_kidney_ex, drug_features, cell_features)\n",
    "_train_loader_kidney_ex = DataLoader(_train_kidney, batch_size=bsz, shuffle=True )\n",
    "_test_kidney_ex = DrugCombDataset(_df_test_kidney_ex, drug_features, cell_features)\n",
    "_test_loader_kidney_ex = DataLoader(_test_kidney_ex, batch_size=bsz, shuffle=False )"
   ]
  },
  {
   "cell_type": "markdown",
   "id": "486b3bc8-8c7c-4018-b39d-50f2b3bf7fff",
   "metadata": {},
   "source": [
    "* Prostate"
   ]
  },
  {
   "cell_type": "code",
   "execution_count": 85,
   "id": "e4fa01df-f74e-4a15-b20a-f667f9f7f240",
   "metadata": {},
   "outputs": [],
   "source": [
    "_train_prostate = DrugCombDataset(_df_train_prostate, drug_features, cell_features)\n",
    "_train_loader_prostate = DataLoader(_train_prostate, batch_size=bsz, shuffle=True )\n",
    "_test_prostate = DrugCombDataset(_df_test_prostate, drug_features, cell_features)\n",
    "_test_loader_prostate = DataLoader(_test_prostate, batch_size=bsz, shuffle=False )"
   ]
  },
  {
   "cell_type": "code",
   "execution_count": 87,
   "id": "7ac10aa2-dda6-494f-b929-e4b8b21777fe",
   "metadata": {},
   "outputs": [],
   "source": [
    "_train_prostate_ex = DrugCombDataset(_df_train_prostate_ex, drug_features, cell_features)\n",
    "_train_loader_prostate_ex = DataLoader(_train_prostate_ex, batch_size=bsz, shuffle=True )\n",
    "_test_prostate_ex = DrugCombDataset(_df_test_prostate_ex, drug_features, cell_features)\n",
    "_test_loader_prostate_ex = DataLoader(_test_prostate_ex, batch_size=bsz, shuffle=False )"
   ]
  },
  {
   "cell_type": "markdown",
   "id": "aa9df74d-67f6-4dc2-b3d1-c5f810c04710",
   "metadata": {},
   "source": [
    "# Prediction model\n",
    "\n",
    "- Citation to the Original Paper\n",
    "  \n",
    "Kim, Y., Zheng, S., Tang, J., Zheng, W.J., Li, Z., & Jiang, X. (2021). Anticancer drug synergy \n",
    "prediction in understudied tissues using transfer learning. Journal of the American Medical \n",
    "Informatics Association https://www.ncbi.nlm.nih.gov/pmc/articles/PMC7810460/\n",
    "\n",
    "- Link to the original paper’s repo : https://github.com/yejinjkim/synergy-transfer\n",
    "\n",
    "The drug synergy prediction model is a deep neural network designed to estimate whether unobserved drug combinations have synergistic effects in a given cell line and to provide a list of combinations. The model incorporates a drug encoder and a cell line encoder. The model can capture the non-linear and complex relationships within the data using embeddings and convolutions, and the transformer architecture also helps in handling sequence data effectively.\n",
    "\n",
    "(1) The drug encoder deals with molecular and genomic features of drugs, such as MACCS fingerprints and SMILES representations. Linear transformation is applied to both the molecular fingerprints and genomic features.\n",
    "(2) Similarly, the cell line encoder processes features like cancer type and gene expressions. It uses embeddings to convert categorical data such as tissue and disease types into dense vector representations. After encoding, the representations from the drug encoder and the cell line encoder are merged and fed into a series of neural network layers. This model uses a Transformer architecture, a type of model widely used in natural language processing, to handle the sequential nature of the SMILES representation of chemical compounds.\n",
    "(3) The Comb class combines the features from the DrugEncoder and CellEncoder. The forward method takes a list of drug features (d1_list, d2_list) and cell line features (c_list), passing them through the corresponding encoder. Then the concatenated drug features are passed through a fully connected layer (fc_syn) to predict synergy scores and the concatenated cell line features are passed through another fully connected layer (fc_ri) to predict response indicators."
   ]
  },
  {
   "cell_type": "code",
   "execution_count": 31,
   "id": "f7ff3065-cd7f-4373-926b-03d2952ca805",
   "metadata": {},
   "outputs": [],
   "source": [
    "class DrugEncoder(nn.Module):\n",
    "    def __init__(self,\n",
    "                 num_drugs=num_drugs,\n",
    "                 num_ID_emb=0,\n",
    "                 num_drug_fp=num_drug_fp,\n",
    "                 max_drug_sm_len=max_drug_sm_len,\n",
    "                 num_gene = num_gene_compressed_drug,\n",
    "                 num_comp_char=len(codes['mole'].idx2item),\n",
    "                 fp_embed_sz = 32,\n",
    "                 gene_embed_sz = int(num_gene_compressed_drug/2),\n",
    "                 out_size=64,\n",
    "                 dropout=0.3):\n",
    "        super(DrugEncoder, self).__init__()\n",
    "        \n",
    "        self.dropout= dropout\n",
    "        #DRUG\n",
    "        #drug ID\n",
    "        #self.embed_id = nn.Embedding(num_drugs, num_ID_emb)\n",
    "        \n",
    "        #compound ID\n",
    "        self.embed_comp = nn.Embedding(num_comp_char, num_comp_char, padding_idx=0)#padding's idx=0\n",
    "        #encoding compound\n",
    "        self.encoderlayer = nn.TransformerEncoderLayer(d_model=num_comp_char, nhead=2)\n",
    "        self.encoder = nn.TransformerEncoder(self.encoderlayer, num_layers=1)\n",
    "        \n",
    "        #fingerprint\n",
    "        self.dense_fp = nn.Linear(num_drug_fp,fp_embed_sz)\n",
    "        #gene\n",
    "        self.dense_gene = nn.Linear(num_gene,gene_embed_sz)\n",
    "        \n",
    "        #depthwise for compound encoding\n",
    "        self.conv = nn.Conv2d(1, 1, (1, num_comp_char), groups=1)\n",
    "        \n",
    "        #combined\n",
    "        combined_sz = num_ID_emb+fp_embed_sz+max_drug_sm_len+gene_embed_sz\n",
    "        self.FC2 = FC2(combined_sz, out_size, dropout)\n",
    "\n",
    "    def forward(self, d_list):\n",
    "        \"\"\"\n",
    "            id: bsz*1\n",
    "            fp: bsz*num_drug_fp\n",
    "            sm: bsz*max_drug_sm_len\n",
    "        \"\"\"\n",
    "        id, fp, sm, gn = d_list\n",
    "        \n",
    "        sm = self.embed_comp(sm) #bsz*max_drug_sm_len*num_comp_char(embedding size)\n",
    "        sm = self.encoder(sm)\n",
    "        sm = self.conv(sm.unsqueeze(1)).squeeze()\n",
    "        \n",
    "        fp = F.relu(self.dense_fp(fp))\n",
    "        gn = F.relu(self.dense_gene(gn))\n",
    "        \n",
    "        #combine\n",
    "        x = torch.cat((fp, sm, gn),1) # bsz*[num_emb_id+num_drug_fp+max+drug_sm]\n",
    "        x = self.FC2(x)\n",
    "        \n",
    "        return x"
   ]
  },
  {
   "cell_type": "code",
   "execution_count": 32,
   "id": "5f05432c-cb08-4e58-b55e-a8b766e152df",
   "metadata": {},
   "outputs": [],
   "source": [
    "class CellEncoder(nn.Module):\n",
    "    def __init__(self,\n",
    "                 num_cells=num_celllines,\n",
    "                 num_tissue=0,\n",
    "                 num_disease=num_disease,\n",
    "                 num_ID_emb=0,\n",
    "                 gene_embed_sz=int(num_gene_compressed_cell/2),\n",
    "                 num_gene=num_gene_compressed_cell,\n",
    "                 out_size=64,\n",
    "                 dropout=0.3):\n",
    "        super(CellEncoder, self).__init__()\n",
    "        \n",
    "        self.dropout= dropout\n",
    "        #cell ID\n",
    "        #self.embed_id = nn.Embedding(num_cells, num_ID_emb)\n",
    "        #cell tissue\n",
    "        #self.embed_ts = nn.Embedding(num_tissue, num_tissue)\n",
    "        #cell disease\n",
    "        self.embed_ds = nn.Embedding(num_disease, num_disease, padding_idx=3)\n",
    "        #gene\n",
    "        self.dense_gene = nn.Linear(num_gene,gene_embed_sz)\n",
    "        \n",
    "        #combined\n",
    "        combined_sz = num_ID_emb+num_tissue+num_disease+gene_embed_sz\n",
    "        self.FC2 = FC2(combined_sz, out_size, dropout)\n",
    "    \n",
    "        \n",
    "    def forward(self, c_list):\n",
    "        \"\"\"\n",
    "            id: bsz*1\n",
    "            fp: bsz*num_drug_fp\n",
    "            sm: bsz*max_drug_sm_len\n",
    "        \"\"\"\n",
    "        id, ts, ds, gn = c_list\n",
    "        ds = F.relu(self.embed_ds(ds)) #bsz*num_diesaes\n",
    "        \n",
    "        gn = F.relu(self.dense_gene(gn)) #bsz*gene_embed_sz\n",
    "        \n",
    "        #combine\n",
    "        \n",
    "        x = torch.cat((ds, gn),1) # bsz*combined_sz\n",
    "        x = self.FC2(x)\n",
    "\n",
    "        return x\n",
    "        "
   ]
  },
  {
   "cell_type": "code",
   "execution_count": 33,
   "id": "65571588-fe93-4675-a704-b675dfb43490",
   "metadata": {},
   "outputs": [],
   "source": [
    "class Comb(nn.Module):\n",
    "    def __init__(self, num_cells=num_celllines, \n",
    "                 num_drugs=num_drugs,\n",
    "                 num_drug_fp=num_drug_fp,\n",
    "                 max_drug_sm_len=max_drug_sm_len,\n",
    "                 num_comp_char=len(codes['mole'].idx2item),\n",
    "                 num_ID_emb=0,\n",
    "                 out_size=64,\n",
    "                dropout=0.3):\n",
    "        \n",
    "        super(Comb, self).__init__()\n",
    "        \n",
    "        self.dropout=dropout    \n",
    "        #drug\n",
    "        self.drugEncoder = DrugEncoder()\n",
    "        #cell\n",
    "        self.cellEncoder = CellEncoder()\n",
    "        #fc\n",
    "        self.fc_syn = FC2(out_size*3, 1, dropout)\n",
    "        self.fc_ri = FC2(out_size*2, 1, dropout)\n",
    "        \n",
    "    def forward(self, d1_list, d2_list, c_list):\n",
    "        d1 = self.drugEncoder(d1_list)\n",
    "        d2 = self.drugEncoder(d2_list)\n",
    "        c = self.cellEncoder(c_list)\n",
    "        \n",
    "        syn = self.fc_syn(torch.cat((d1, d2, c),1))\n",
    "        ri1 = self.fc_ri(torch.cat((d1,c),1))\n",
    "        ri2 = self.fc_ri(torch.cat((d2,c),1))\n",
    "        \n",
    "        return syn, ri1, ri2"
   ]
  },
  {
   "cell_type": "markdown",
   "id": "73156cc2-b8ed-4b6b-aada-f29eedf8229b",
   "metadata": {},
   "source": [
    "# Training with Sensitivity and Synergy"
   ]
  },
  {
   "cell_type": "markdown",
   "id": "9d81e7b5-a8b3-44d3-8e30-80cbad12273a",
   "metadata": {},
   "source": [
    "- hyperparameter :\n",
    "\n",
    "(1) The number of training examples utilized in one iteration: Batch Size (bsz) = 128 \\\n",
    "(2) The number of complete passes through the training dataset: epochs = 10 \\\n",
    "(3) Hidden Size: num_gene_compressed_drug = 64, num_gene_compressed_cell = 128 \\\n",
    "(4) dropout = 0.3 \n",
    "  "
   ]
  },
  {
   "cell_type": "markdown",
   "id": "6efa177c-1a5c-4b67-90c8-e58d278fff8c",
   "metadata": {},
   "source": [
    "- Computational Requirements:\n",
    "\n",
    "(1) Type of Hardware: CPU model (Intel Core i7 8th Gen) \\\n",
    "(2) Average Runtime for Each Epoch: 781.48 seconds (see below result) \\\n",
    "(3) Number of Training Epochs: 10\n"
   ]
  },
  {
   "cell_type": "code",
   "execution_count": 52,
   "id": "a927de5b-f578-4c28-a765-132945227fc4",
   "metadata": {},
   "outputs": [],
   "source": [
    "model = Comb()\n",
    "#Regression\n",
    "#criterion_mse = nn.MSELoss()\n",
    "#Classification\n",
    "criterion_bce = nn.BCEWithLogitsLoss()\n",
    "optimizer = optim.Adagrad(model.parameters())"
   ]
  },
  {
   "cell_type": "code",
   "execution_count": 53,
   "id": "f4bc6b62-c197-4d0b-9638-37447f97b55f",
   "metadata": {},
   "outputs": [],
   "source": [
    "#Training\n",
    "def training(isAux, data_loader):\n",
    "    model.train()\n",
    "    total_loss = 0\n",
    "    start_time = time.time()\n",
    "\n",
    "    for iteration, sample in enumerate(data_loader):\n",
    "        d1 = Variable(sample['d1'])\n",
    "        d1_fp = Variable(sample['d1_fp'].float())\n",
    "        d1_sm = Variable(sample['d1_sm'])\n",
    "        d1_gn = Variable(sample['d1_gn'].float())\n",
    "        \n",
    "        d2 = Variable(sample['d2'])\n",
    "        d2_fp = Variable(sample['d2_fp'].float())\n",
    "        d2_sm = Variable(sample['d2_sm'])\n",
    "        d2_gn = Variable(sample['d2_gn'].float())\n",
    "        \n",
    "        cell = Variable(sample['cell'])\n",
    "        c_ts = Variable(sample['c_ts'])\n",
    "        c_ds = Variable(sample['c_ds'])\n",
    "        c_gn = Variable(sample['c_gn'].float())\n",
    "        \n",
    "        syn_true = Variable(sample['syn'].float())\n",
    "        ri_d1 = Variable(sample['ri_d1'].float())\n",
    "        ri_d2 = Variable(sample['ri_d2'].float())\n",
    "\n",
    "\n",
    "        optimizer.zero_grad()\n",
    "        \n",
    "        syn, ri1, ri2 = model((d1, d1_fp, d1_sm, d1_gn), (d2, d2_fp, d2_sm, d2_gn), (cell, c_ts, c_ds, c_gn) )\n",
    "        \n",
    "        \n",
    "        if not isAux:\n",
    "            loss = criterion_bce(syn, syn_true.view(-1,1))\n",
    "        else:\n",
    "            loss = criterion_bce(ri1, ri_d1.view(-1,1)) + criterion_bce(ri2, ri_d2.view(-1,1))\n",
    "            \n",
    "        loss.backward()\n",
    "        optimizer.step()\n",
    "        total_loss += loss.data\n",
    "\n",
    "        if iteration % log_interval == 0 and iteration > 0:\n",
    "            cur_loss = total_loss.item() / log_interval\n",
    "            elapsed = time.time() - start_time\n",
    "            print('| epoch {:3d} | {:5d}/{:5d} batches | ms/batch {:5.2f} | loss {:8.5f}'.format(epoch, iteration, int(len(train_loader)/bsz), elapsed * 1000/log_interval, cur_loss))\n",
    "\n",
    "            total_loss = 0\n",
    "            start_time = time.time()\n",
    "            \n",
    "    end_time = time.time()\n",
    "    epoch_duration = end_time - start_time\n",
    "    return total_loss, epoch_duration\n"
   ]
  },
  {
   "cell_type": "code",
   "execution_count": 54,
   "id": "d6ed3ec8-fb75-4596-b138-22195741c64e",
   "metadata": {},
   "outputs": [],
   "source": [
    "def evaluate(data_loader):\n",
    "    model.eval()\n",
    "    total_loss = 0\n",
    "    total_loss_sen = 0\n",
    "\n",
    "    \n",
    "    #loss\n",
    "    with torch.no_grad():\n",
    "        for iteration, sample in enumerate(data_loader):\n",
    "            d1 = Variable(sample['d1'])\n",
    "            d1_fp = Variable(sample['d1_fp'].float())\n",
    "            d1_sm = Variable(sample['d1_sm'])\n",
    "            d1_gn = Variable(sample['d1_gn'].float())\n",
    "\n",
    "            d2 = Variable(sample['d2'])\n",
    "            d2_fp = Variable(sample['d2_fp'].float())\n",
    "            d2_sm = Variable(sample['d2_sm'])\n",
    "            d2_gn = Variable(sample['d2_gn'].float())\n",
    "\n",
    "            cell = Variable(sample['cell'])\n",
    "            c_ts = Variable(sample['c_ts'])\n",
    "            c_ds = Variable(sample['c_ds'])\n",
    "            c_gn = Variable(sample['c_gn'].float())\n",
    "\n",
    "            syn_true = Variable(sample['syn'].float())\n",
    "            ri_d1 = Variable(sample['ri_d1'].float())\n",
    "            ri_d2 = Variable(sample['ri_d2'].float())\n",
    "\n",
    "\n",
    "            syn,ri1,ri2 = model((d1, d1_fp, d1_sm, d1_gn), (d2, d2_fp, d2_sm, d2_gn), (cell, c_ts,c_ds,c_gn) )\n",
    "            \n",
    "            loss = criterion_bce(syn, syn_true.view(-1,1))\n",
    "            total_loss +=loss.data\n",
    "            loss_sen = (criterion_bce(ri1, ri_d1.view(-1,1))+criterion_bce(ri2, ri_d2.view(-1,1)))/2\n",
    "            total_loss_sen += loss_sen.data\n",
    "\n",
    "       \n",
    "        print('syn mse', total_loss.item()/(iteration+1))\n",
    "        print('sen_mse', total_loss_sen.item()/(iteration+1))"
   ]
  },
  {
   "cell_type": "code",
   "execution_count": 55,
   "id": "24d7f42c-ccda-4502-9923-f0e52a889f59",
   "metadata": {},
   "outputs": [
    {
     "name": "stdout",
     "output_type": "stream",
     "text": [
      "syn mse 0.41688702323219995\n",
      "sen_mse 0.07716356082396074\n",
      "Epoch 1 duration: 705.02 seconds\n",
      "syn mse 0.36995098807594995\n",
      "sen_mse 0.07500742782245982\n",
      "Epoch 2 duration: 683.06 seconds\n",
      "syn mse 0.34642002799294214\n",
      "sen_mse 0.07194806770844893\n",
      "Epoch 3 duration: 678.78 seconds\n",
      "syn mse 0.34495793689380994\n",
      "sen_mse 0.07107592712749135\n",
      "Epoch 4 duration: 678.14 seconds\n",
      "syn mse 0.3333862911571156\n",
      "sen_mse 0.07286194237795743\n",
      "Epoch 5 duration: 681.95 seconds\n",
      "syn mse 0.33032595027576794\n",
      "sen_mse 0.0696515440940857\n",
      "Epoch 6 duration: 698.20 seconds\n",
      "syn mse 0.316643931648948\n",
      "sen_mse 0.0712784311988137\n",
      "Epoch 7 duration: 694.28 seconds\n",
      "syn mse 0.3170047239823775\n",
      "sen_mse 0.07059045813300392\n",
      "Epoch 8 duration: 682.02 seconds\n",
      "syn mse 0.3135568228634921\n",
      "sen_mse 0.0694161436774514\n",
      "Epoch 9 duration: 664.03 seconds\n",
      "syn mse 0.30961940505287866\n",
      "sen_mse 0.07192409580404108\n",
      "Epoch 10 duration: 662.17 seconds\n",
      "Average epoch runtime: 682.77 seconds\n"
     ]
    }
   ],
   "source": [
    "'''\n",
    "try:\n",
    "    epoch_durations = []\n",
    "    for epoch in range(1, epochs+1):\n",
    "        epoch_start_time = time.time()\n",
    "        train_loss, train_duration = training(False, train_loader)\n",
    "        aux_train_loss, aux_train_duration = training(True, train_loader)\n",
    "        evaluate(test_loader)\n",
    "        epoch_durations.append(train_duration + aux_train_duration)\n",
    "        print(f\"Epoch {epoch} duration: {train_duration + aux_train_duration:.2f} seconds\")\n",
    "except KeyboardInterrupt:\n",
    "    print('-'*89)\n",
    "    print('Existing from training early')\n",
    "\n",
    "average_epoch_duration = sum(epoch_durations) / len(epoch_durations)\n",
    "print(f\"Average epoch runtime: {average_epoch_duration:.2f} seconds\")\n",
    "'''"
   ]
  },
  {
   "cell_type": "code",
   "execution_count": 56,
   "id": "941bd5da-d114-45ad-ad8b-e2cc504f2c21",
   "metadata": {},
   "outputs": [],
   "source": [
    "#model save\n",
    "torch.save(model.state_dict(), 'general-model.p')"
   ]
  },
  {
   "cell_type": "code",
   "execution_count": 57,
   "id": "a0bf726a-193c-4bf3-8593-c5ad772ed007",
   "metadata": {},
   "outputs": [
    {
     "data": {
      "text/plain": [
       "Comb(\n",
       "  (drugEncoder): DrugEncoder(\n",
       "    (embed_comp): Embedding(38, 38, padding_idx=0)\n",
       "    (encoderlayer): TransformerEncoderLayer(\n",
       "      (self_attn): MultiheadAttention(\n",
       "        (out_proj): NonDynamicallyQuantizableLinear(in_features=38, out_features=38, bias=True)\n",
       "      )\n",
       "      (linear1): Linear(in_features=38, out_features=2048, bias=True)\n",
       "      (dropout): Dropout(p=0.1, inplace=False)\n",
       "      (linear2): Linear(in_features=2048, out_features=38, bias=True)\n",
       "      (norm1): LayerNorm((38,), eps=1e-05, elementwise_affine=True)\n",
       "      (norm2): LayerNorm((38,), eps=1e-05, elementwise_affine=True)\n",
       "      (dropout1): Dropout(p=0.1, inplace=False)\n",
       "      (dropout2): Dropout(p=0.1, inplace=False)\n",
       "    )\n",
       "    (encoder): TransformerEncoder(\n",
       "      (layers): ModuleList(\n",
       "        (0): TransformerEncoderLayer(\n",
       "          (self_attn): MultiheadAttention(\n",
       "            (out_proj): NonDynamicallyQuantizableLinear(in_features=38, out_features=38, bias=True)\n",
       "          )\n",
       "          (linear1): Linear(in_features=38, out_features=2048, bias=True)\n",
       "          (dropout): Dropout(p=0.1, inplace=False)\n",
       "          (linear2): Linear(in_features=2048, out_features=38, bias=True)\n",
       "          (norm1): LayerNorm((38,), eps=1e-05, elementwise_affine=True)\n",
       "          (norm2): LayerNorm((38,), eps=1e-05, elementwise_affine=True)\n",
       "          (dropout1): Dropout(p=0.1, inplace=False)\n",
       "          (dropout2): Dropout(p=0.1, inplace=False)\n",
       "        )\n",
       "      )\n",
       "    )\n",
       "    (dense_fp): Linear(in_features=167, out_features=32, bias=True)\n",
       "    (dense_gene): Linear(in_features=64, out_features=32, bias=True)\n",
       "    (conv): Conv2d(1, 1, kernel_size=(1, 38), stride=(1, 1))\n",
       "    (FC2): FC2(\n",
       "      (bn): BatchNorm1d(428, eps=1e-05, momentum=0.1, affine=True, track_running_stats=True)\n",
       "      (fc1): Linear(in_features=428, out_features=214, bias=True)\n",
       "      (fc2): Linear(in_features=214, out_features=64, bias=True)\n",
       "      (dropout): Dropout(p=0.3, inplace=False)\n",
       "    )\n",
       "  )\n",
       "  (cellEncoder): CellEncoder(\n",
       "    (embed_ds): Embedding(52, 52, padding_idx=3)\n",
       "    (dense_gene): Linear(in_features=128, out_features=64, bias=True)\n",
       "    (FC2): FC2(\n",
       "      (bn): BatchNorm1d(116, eps=1e-05, momentum=0.1, affine=True, track_running_stats=True)\n",
       "      (fc1): Linear(in_features=116, out_features=58, bias=True)\n",
       "      (fc2): Linear(in_features=58, out_features=64, bias=True)\n",
       "      (dropout): Dropout(p=0.3, inplace=False)\n",
       "    )\n",
       "  )\n",
       "  (fc_syn): FC2(\n",
       "    (bn): BatchNorm1d(192, eps=1e-05, momentum=0.1, affine=True, track_running_stats=True)\n",
       "    (fc1): Linear(in_features=192, out_features=96, bias=True)\n",
       "    (fc2): Linear(in_features=96, out_features=1, bias=True)\n",
       "    (dropout): Dropout(p=0.3, inplace=False)\n",
       "  )\n",
       "  (fc_ri): FC2(\n",
       "    (bn): BatchNorm1d(128, eps=1e-05, momentum=0.1, affine=True, track_running_stats=True)\n",
       "    (fc1): Linear(in_features=128, out_features=64, bias=True)\n",
       "    (fc2): Linear(in_features=64, out_features=1, bias=True)\n",
       "    (dropout): Dropout(p=0.3, inplace=False)\n",
       "  )\n",
       ")"
      ]
     },
     "execution_count": 57,
     "metadata": {},
     "output_type": "execute_result"
    }
   ],
   "source": [
    "#model load\n",
    "model.load_state_dict(torch.load('general-model.p'))\n",
    "model.eval()"
   ]
  },
  {
   "cell_type": "markdown",
   "id": "54ecb761-a22f-4f4f-8b2b-1e08b772a0b7",
   "metadata": {},
   "source": [
    "# Evaluation of the General Model\n",
    "\n",
    "\n",
    "When evaluated the general prediction model, cross and external validation were performed. I randomly seperated the pooled databases into training (80%) and testing sets (20%). For external validation, I set aside 1 indepedent database as a test set and used the remaining pooled databases as a training set.  \n",
    "\n",
    "The regression accuracy measure was MSE, a lower MSE value indicates better performance of the model. The classification accuracy measures were area under the receiver operating curve (AUROC) and area under precision-recall curve (AUPRC).\n",
    "\n"
   ]
  },
  {
   "cell_type": "code",
   "execution_count": 58,
   "id": "fe90c113-d2d9-4186-a850-bd5ef2a191c1",
   "metadata": {},
   "outputs": [],
   "source": [
    "def dcg_score(y_score, y_true, k):\n",
    "    \"\"\"\n",
    "        https://www.kaggle.com/davidgasquez/ndcg-scorer\n",
    "        y_true: np.array, size= [n_samples]\n",
    "        y_score: np.array, size=[n_samples]\n",
    "        k: int, rank\n",
    "    \"\"\"\n",
    "    order = np.argsort(y_score)[::-1]\n",
    "    y_true = np.take(y_true, order[:k])\n",
    "    \n",
    "    #gain = 2 ** y_true -1\n",
    "    gain = y_true \n",
    "    \n",
    "    discounts = np.log2(np.arange(len(y_true)) + 2)\n",
    "    return np.sum(gain/discounts)\n",
    "\n",
    "def evaluate_accuracy(data_loader):\n",
    "    model.eval()\n",
    "    \n",
    "    syn_all = []\n",
    "    syn_true_all = []\n",
    "    ri1_all = []\n",
    "    ri1_true_all = []\n",
    "    ri2_all = []\n",
    "    ri2_true_all = []\n",
    "    \n",
    "    #loss\n",
    "    with torch.no_grad():\n",
    "        for iteration, sample in enumerate(data_loader):\n",
    "            d1 = Variable(sample['d1'])\n",
    "            d1_fp = Variable(sample['d1_fp'].float())\n",
    "            d1_sm = Variable(sample['d1_sm'])\n",
    "            d1_gn = Variable(sample['d1_gn'].float())\n",
    "\n",
    "            d2=Variable(sample['d2'])\n",
    "            d2_fp = Variable(sample['d2_fp'].float())\n",
    "            d2_sm = Variable(sample['d2_sm'])\n",
    "            d2_gn = Variable(sample['d2_gn'].float())\n",
    "\n",
    "            cell = Variable(sample['cell'])\n",
    "            c_ts = Variable(sample['c_ts'])\n",
    "            c_ds = Variable(sample['c_ds'])\n",
    "            c_gn = Variable(sample['c_gn'].float())\n",
    "\n",
    "            syn_true = Variable(sample['syn'].float())\n",
    "            ri_d1 = Variable(sample['ri_d1'])\n",
    "            ri_d2 = Variable(sample['ri_d2'])\n",
    "\n",
    "            syn,ri1,ri2 = model((d1, d1_fp, d1_sm, d1_gn), (d2, d2_fp, d2_sm, d2_gn), (cell, c_ts,c_ds,c_gn) )\n",
    "            \n",
    "            syn_all.append(syn.data.cpu().numpy())\n",
    "            syn_true_all.append(syn_true.numpy())\n",
    "            \n",
    "            ri1_all.append(ri1.data.cpu().numpy())\n",
    "            ri1_true_all.append(ri_d1.numpy())\n",
    "            \n",
    "            ri2_all.append(ri2.data.cpu().numpy())\n",
    "            ri2_true_all.append(ri_d2.numpy())\n",
    "            \n",
    "    return syn_all, syn_true_all, ri1_all, ri1_true_all, ri2_all, ri2_true_all"
   ]
  },
  {
   "cell_type": "markdown",
   "id": "54e45814-31f1-4f8c-87aa-4906c44ffe28",
   "metadata": {},
   "source": [
    "Evaluate synergy prediction\n",
    "\n"
   ]
  },
  {
   "cell_type": "code",
   "execution_count": 72,
   "id": "3730102d-3350-4df4-b123-3bba448f99ff",
   "metadata": {},
   "outputs": [],
   "source": [
    "syn_all, syn_true_all, ri1_all, ri1_true_all, ri2_all, ri2_true_all = evaluate_accuracy(test_loader)\n",
    "\n",
    "syn_all = [s.item() for syn in syn_all for s in syn]\n",
    "syn_true_all = [s for syn in syn_true_all for s in syn]\n",
    "\n",
    "#NDCG\n",
    "#dcg_score(syn_all,syn_true_all, k=20)/dcg_score(syn_true_all,syn_true_all, k=20)\n",
    "#AUPRC\n",
    "t_all_para_auprc = metrics.average_precision_score(syn_true_all,  1/(1 + np.exp(-np.array(syn_all))))\n",
    "#AUROC\n",
    "t_all_para_auroc = metrics.roc_auc_score(syn_true_all,  1/(1 + np.exp(-np.array(syn_all))))\n",
    "#MSE\n",
    "t_all_para_mse =  mean_squared_error(syn_true_all, syn_all)\n"
   ]
  },
  {
   "cell_type": "code",
   "execution_count": 62,
   "id": "6fd47ac4-1f0b-48d0-a717-1a36fb0d124a",
   "metadata": {},
   "outputs": [],
   "source": [
    "syn_all, syn_true_all, ri1_all, ri1_true_all, ri2_all, ri2_true_all = evaluate_accuracy(test_almana_loader)\n",
    "\n",
    "syn_all = [s.item() for syn in syn_all for s in syn]\n",
    "syn_true_all = [s for syn in syn_true_all for s in syn]\n",
    "\n",
    "#NDCG\n",
    "#print(dcg_score(syn_all,syn_true_all, k=20)/dcg_score(syn_true_all,syn_true_all, k=20))\n",
    "#AUPRC\n",
    "almana_auprc = metrics.average_precision_score(syn_true_all,  1/(1 + np.exp(-np.array(syn_all))))\n",
    "#AUROC\n",
    "almana_auroc = metrics.roc_auc_score(syn_true_all,  1/(1 + np.exp(-np.array(syn_all))))\n",
    "#MSE\n",
    "almana_mse = mean_squared_error(syn_true_all, syn_all)"
   ]
  },
  {
   "cell_type": "code",
   "execution_count": 64,
   "id": "953f8a13-7c8c-4534-97e5-4257833bea8e",
   "metadata": {},
   "outputs": [],
   "source": [
    "syn_all, syn_true_all, ri1_all, ri1_true_all, ri2_all, ri2_true_all = evaluate_accuracy(test_loader_oneil)\n",
    "\n",
    "syn_all = [s.item() for syn in syn_all for s in syn]\n",
    "syn_true_all = [s for syn in syn_true_all for s in syn]\n",
    "\n",
    "#NDCG\n",
    "#print(dcg_score(syn_all,syn_true_all, k=20)/dcg_score(syn_true_all,syn_true_all, k=20))\n",
    "#AUPRC\n",
    "oneil_auprc = metrics.average_precision_score(syn_true_all,  1/(1 + np.exp(-np.array(syn_all))))\n",
    "#AUROC\n",
    "oneil_auroc = metrics.roc_auc_score(syn_true_all,  1/(1 + np.exp(-np.array(syn_all))))\n",
    "#MSE\n",
    "oneil_mse = mean_squared_error(syn_true_all, syn_all)"
   ]
  },
  {
   "cell_type": "code",
   "execution_count": 86,
   "id": "7df3bfc7-032b-4206-bc8a-de2dd51499da",
   "metadata": {},
   "outputs": [],
   "source": [
    "syn_all, syn_true_all, ri1_all, ri1_true_all, ri2_all, ri2_true_all = evaluate_accuracy(_test_loader_prostate)\n",
    "\n",
    "syn_all = [s.item() for syn in syn_all for s in syn]\n",
    "syn_true_all = [s for syn in syn_true_all for s in syn]\n",
    "\n",
    "#NDCG\n",
    "#print(dcg_score(syn_all,syn_true_all, k=20)/dcg_score(syn_true_all,syn_true_all, k=20))\n",
    "#AUPRC\n",
    "prostate_auprc = metrics.average_precision_score(syn_true_all,  1/(1 + np.exp(-np.array(syn_all))))\n",
    "#AUROC\n",
    "prostate_auroc = metrics.roc_auc_score(syn_true_all,  1/(1 + np.exp(-np.array(syn_all))))\n",
    "#MSE\n",
    "prostate_mse = mean_squared_error(syn_true_all, syn_all)"
   ]
  },
  {
   "cell_type": "code",
   "execution_count": 88,
   "id": "0a198697-1ed3-458f-acb0-77b5e96ab3de",
   "metadata": {},
   "outputs": [],
   "source": [
    "syn_all, syn_true_all, ri1_all, ri1_true_all, ri2_all, ri2_true_all = evaluate_accuracy(_test_loader_prostate_ex)\n",
    "\n",
    "syn_all = [s.item() for syn in syn_all for s in syn]\n",
    "syn_true_all = [s for syn in syn_true_all for s in syn]\n",
    "\n",
    "#NDCG\n",
    "#print(dcg_score(syn_all,syn_true_all, k=20)/dcg_score(syn_true_all,syn_true_all, k=20))\n",
    "#AUPRC\n",
    "prostate_ex_auprc = metrics.average_precision_score(syn_true_all,  1/(1 + np.exp(-np.array(syn_all))))\n",
    "#AUROC\n",
    "prostate_ex_auroc = metrics.roc_auc_score(syn_true_all,  1/(1 + np.exp(-np.array(syn_all))))\n",
    "#MSE\n",
    "prostate_ex_mse = mean_squared_error(syn_true_all, syn_all)"
   ]
  },
  {
   "cell_type": "code",
   "execution_count": 81,
   "id": "8b32d5a6-f7d5-4ef8-ad64-064aed04f1cf",
   "metadata": {},
   "outputs": [],
   "source": [
    "syn_all, syn_true_all, ri1_all, ri1_true_all, ri2_all, ri2_true_all = evaluate_accuracy(_test_loader_kidney)\n",
    "\n",
    "syn_all = [s.item() for syn in syn_all for s in syn]\n",
    "syn_true_all = [s for syn in syn_true_all for s in syn]\n",
    "\n",
    "#NDCG\n",
    "#print(dcg_score(syn_all,syn_true_all, k=20)/dcg_score(syn_true_all,syn_true_all, k=20))\n",
    "#AUPRC\n",
    "kidney_auprc = metrics.average_precision_score(syn_true_all,  1/(1 + np.exp(-np.array(syn_all))))\n",
    "#AUROC\n",
    "kidney_auroc = metrics.roc_auc_score(syn_true_all,  1/(1 + np.exp(-np.array(syn_all))))\n",
    "#MSE\n",
    "kidney_mse = mean_squared_error(syn_true_all, syn_all)"
   ]
  },
  {
   "cell_type": "code",
   "execution_count": 83,
   "id": "4dcafa68-9f2e-44fb-a925-1d9426e841a2",
   "metadata": {},
   "outputs": [],
   "source": [
    "syn_all, syn_true_all, ri1_all, ri1_true_all, ri2_all, ri2_true_all = evaluate_accuracy(_test_loader_kidney_ex)\n",
    "\n",
    "syn_all = [s.item() for syn in syn_all for s in syn]\n",
    "syn_true_all = [s for syn in syn_true_all for s in syn]\n",
    "\n",
    "#NDCG\n",
    "#print(dcg_score(syn_all,syn_true_all, k=20)/dcg_score(syn_true_all,syn_true_all, k=20))\n",
    "#AUPRC\n",
    "kidney_ex_auprc = metrics.average_precision_score(syn_true_all,  1/(1 + np.exp(-np.array(syn_all))))\n",
    "#AUROC\n",
    "kidney_ex_auroc = metrics.roc_auc_score(syn_true_all,  1/(1 + np.exp(-np.array(syn_all))))\n",
    "#MSE\n",
    "kidney_ex_mse = mean_squared_error(syn_true_all, syn_all)"
   ]
  },
  {
   "cell_type": "markdown",
   "id": "662f4d4b-81ce-4a34-a91f-6ab831de949e",
   "metadata": {},
   "source": [
    "# Result"
   ]
  },
  {
   "cell_type": "code",
   "execution_count": 73,
   "id": "6336749a-c531-4192-9a43-1c3f586f8c81",
   "metadata": {},
   "outputs": [
    {
     "name": "stdout",
     "output_type": "stream",
     "text": [
      "Drug synergy prediction accuracy for data-rich tissues\n",
      "\n",
      "              Train                 Test    AUROC    AUPRC\n",
      "15 pooled databases  15 pooled databases 0.907149 0.733340\n",
      "            ALMANAC              ALMANAC 0.911410 0.751946\n",
      "              ONIEL                ONEIL 0.911641 0.754110\n"
     ]
    }
   ],
   "source": [
    "metrics = {\n",
    "    ('15 pooled databases', ' 15 pooled databases'): {'AUROC': t_all_para_auroc, 'AUPRC': t_all_para_auprc},\n",
    "    ('ALMANAC', 'ALMANAC'): {'AUROC': almana_auroc, 'AUPRC': almana_auprc},\n",
    "    ('ONIEL', 'ONEIL'): {'AUROC': oneil_auroc, 'AUPRC':oneil_auprc }\n",
    "}\n",
    "\n",
    "metrics_df = pd.DataFrame(metrics).T.reset_index()\n",
    "metrics_df.columns = ['Train', 'Test', 'AUROC', 'AUPRC']\n",
    "print(\"Drug synergy prediction accuracy for data-rich tissues\")\n",
    "print(\"\")\n",
    "print(metrics_df.to_string(index=False))"
   ]
  },
  {
   "cell_type": "markdown",
   "id": "5e603477-4bab-4cd1-9d1a-caa8ea32446d",
   "metadata": {},
   "source": [
    "Cross validation with randomly split train/test from the 15 pooled databases. External validation with the O’Neil for test and the remaining 14 pooled\n",
    "databases for training. For classification tasks, AUROC and AUPRC were computed after binarizing synergy at threshold 30.\n",
    "AUPRC: area under the precision-recall curve; AUROC: area under the receiver operating curve;"
   ]
  },
  {
   "cell_type": "markdown",
   "id": "92eb03fe-6843-43b2-92cf-75abcc47893b",
   "metadata": {},
   "source": [
    "The first experiment was to evaluate the accuracy of general models trained and tested with data-rich tissues. I achieved {0.951481 AUROC, 0.803828 AUPRC} for cross-validation (randomly split from 15 pooled databases) and {0.571932 AUROC, 0.170252 AUPRC} for external validation (ie, trained with 14 pooled databases, tested with O’Neil).The lower accuracy in external validation compared to cross-validation might be partly due to different experimental settings on measuring the drug response scores and gene expression values across various synergy databases.  Based on the fact that different tissues share common gene expression and therefore respond to drugs in similar ways, we used transfer learning from data-rich tissues to data-poor tissues to make the synergy prediction model work in data-poor tissues."
   ]
  },
  {
   "cell_type": "code",
   "execution_count": 94,
   "id": "f678fb58-9e11-49e3-ab83-ca5a7dce7716",
   "metadata": {},
   "outputs": [
    {
     "name": "stdout",
     "output_type": "stream",
     "text": [
      "Accuuray of Synergy Prediction Model\n",
      "\n",
      "        Models    AUROC   AUPRC\n",
      "   DeepSynergy 0.900000 0.59000\n",
      "Transfer Model 0.911641 0.75411\n"
     ]
    }
   ],
   "source": [
    "metrics = [\n",
    "     {'Models': 'DeepSynergy', 'AUROC':0.90 ,'AUPRC': 0.59,},\n",
    "     {'Models': 'Transfer Model','AUROC': oneil_auroc, 'AUPRC': oneil_auprc}\n",
    "]\n",
    "\n",
    "metrics_df = pd.DataFrame(metrics)\n",
    "#metrics_df.columns = [\"\",\"AUROC\", \"AUPRC\"]\n",
    "print(\"Accuuray of Synergy Prediction Model\")\n",
    "print(\"\")\n",
    "print(metrics_df.to_string(index=False))"
   ]
  },
  {
   "cell_type": "markdown",
   "id": "d6fe6b68-b543-409c-8812-0eb892c5a1f6",
   "metadata": {},
   "source": [
    "We trained and tested our model with O’Neil database in particular to compare our model’s accuracy with DeepSynergy. Our model achieved higher AUROC/AUPRC. DeepSynergy showed {0.90 AUROC, 0.59 AUPRC}, whereas our proposed model showed {0.91 AUROC, 0.75 AUPRC}."
   ]
  },
  {
   "cell_type": "code",
   "execution_count": 89,
   "id": "59eb75c6-1fe0-4b0c-b602-79b0eaafd84c",
   "metadata": {},
   "outputs": [
    {
     "name": "stdout",
     "output_type": "stream",
     "text": [
      "Drug synergy prediction accuracy for kidney and prostate cancer (data-poor tissue) with transfer learning strategy\n",
      "\n",
      "  Tissue    Transfer    AUROC    AUPRC\n",
      "Prostate No Transfer 0.770115 0.465812\n",
      "Prostate    Transfer 0.905109 0.727606\n",
      "  Kidney No Transfer 0.863095 0.691532\n",
      "  Kidney    Transfer 0.870495 0.687483\n"
     ]
    }
   ],
   "source": [
    "metrics = {\n",
    "    ('Prostate', 'No Transfer'): {'AUROC': prostate_auroc , 'AUPRC': prostate_auprc},\n",
    "    ('Prostate', 'Transfer'): {'AUROC': prostate_ex_auroc, 'AUPRC': prostate_ex_auprc},\n",
    "    ('Kidney', 'No Transfer'): {'AUROC': kidney_auroc, 'AUPRC': kidney_auprc},\n",
    "    ('Kidney', 'Transfer'): {'AUROC':kidney_ex_auroc , 'AUPRC':kidney_ex_auprc }\n",
    "    \n",
    "}\n",
    "\n",
    "metrics_df = pd.DataFrame(metrics).T.reset_index()\n",
    "metrics_df.columns = ['Tissue', 'Transfer', \"AUROC\", \"AUPRC\"]\n",
    "print(\"Drug synergy prediction accuracy for kidney and prostate cancer (data-poor tissue) with transfer learning strategy\")\n",
    "print(\"\")\n",
    "print(metrics_df.to_string(index=False))\n"
   ]
  },
  {
   "cell_type": "markdown",
   "id": "dab8cdde-03b3-4a2f-a87f-9f8238404cb9",
   "metadata": {},
   "source": [
    "In the subsequent experiments, we shifted our focus to understudied tissues. We compared accuracy with and without the transferred model parameters. We found that an adequate tranfer learning increases accuracy in both kidney and prostate.In external validation of kidney cell line, we achieved { 0.863095 AUROC, 0.691532 AUPRC} without transfer learning, and {0.870495  AUROC, 0.687483 AUPRC} with transfer learning (transferred all parameters and no fine-tuned).In the external validation of prostate cell lines, we achieved {0.770115 AUROC,0.465812 APPRC} without transfer learning, and { 0.905109 AUROC, 0.727606 AUPRC} with transfer learning. By comparing the accuracy of drug synergy predictions on understudied tissues before and \n",
    "after applying transfer learning, we can conclude that transfer learning approach can significantly improve the accuracy of drug synergy \n",
    "predictions in understudied tissues. "
   ]
  },
  {
   "cell_type": "markdown",
   "id": "79880961-7f76-41be-945e-42d6dd9f16b5",
   "metadata": {},
   "source": [
    "To evaluate the importance of different model components and input features, ablation studies include assessing the impact of removing specific sets of features (e.g., genetic vs. phenotypic) and modifying the transfer learning strategy. By removing genetic information, the model's performance significantly drops without genetic data, this indicates the important role of genetic features in predicting drug synergies. In addition, transfer learning strategy leads to improve predictions, it also means it is important when building the model. This will help in understand the model’s dependencies and ensuring that each part of the model contributes effectively."
   ]
  },
  {
   "cell_type": "markdown",
   "id": "9a6ca27f-b21e-4698-b324-7d7b6f45343e",
   "metadata": {},
   "source": [
    "# Discussion\n"
   ]
  },
  {
   "cell_type": "markdown",
   "id": "38b14d6a-7ffd-444d-9481-b8d9208f88d7",
   "metadata": {},
   "source": [
    "The objective of this study was to develop the drug combination synergy prediction model, which can be used even in understudied tissue with less observation. The approach involved three main steps: gathering a wide range of data from various sources, combining this data in a way that a complex computer model (a deep neural network) can understand, and adjusting this model to work for less-studied tissues.\n",
    "\n",
    "The initial steps of my project involving a transfer model have shown encouraging outcomes, highlighting its capability to improve prediction accuracy. In the referenced paper, the authors benchmarked their transfer model, boasting impressive scores—0.95 AUROC and 0.80 AUPRC—when put side-by-side with other methods like DeepSynergy and XGBoost. And I've managed to replicate these results for the transfer model. As the project progresses, I turn attention to further hypotheses. The next step involves determining if the model, already knowledgeable from data-rich scenarios, can predict outcomes for tissues that haven't been studied as much. I've got the model ready from its extensive training on rich datasets, and by comparing the accuracy of drug synergy predictions on understudied tissues before and after applying transfer learning, we can conclude that transfer learning approach can significantly improve the accuracy of drug synergy predictions in understudied tissues.\n",
    "\n",
    "In trying to replicate the findings of the original research, some parts were easier to handle than others. On the easier side the paper has a well-defined goal - to develop a drug synergy prediction model for understudied tissues, which provides a clear direction for reproduction. Also, the study utilizes publicly available drug synergy databases, making it possible to access and the author also shared the cell features and drug features datasets with me. \n",
    "\n",
    "However, I faced some tough challenges as well. Understanding and building the complex deep neural network required for the study took considerable time and effort. Deciding which parts of the network to adjust or keep the same was a complex task that required careful judgment. Additionally, while the model worked quite well with tissues that had lots of data available, it didn't do as well when tested on other datasets. This suggests that the model might not be as universally applicable as hoped. The original paper also noted that there could be discrepancies in drug response measurements across different databases, which might lead to variations in reproducibility. \n",
    "\n",
    "Improving reproducibility in computational research, especially in fields dealing with complex models and data like drug synergy prediction, is crucial. I would recommend the original authors or the others working in this area: (1) Ensure that all code used for experiments is available and easily accessible, for example open-source repositories like GitHub. (2) Clearly outline all data preprocessing steps, including how data was cleaned, transformed, and formatted before analysis. (3) Include benchmark comparisons with baseline models, and share detailed results in both tabular and graphical formats. "
   ]
  },
  {
   "cell_type": "markdown",
   "id": "28109283-02a7-40eb-86b9-5a162a352d2e",
   "metadata": {},
   "source": [
    "# Public Github Repo"
   ]
  },
  {
   "cell_type": "markdown",
   "id": "d3e6b6c2-18d6-4ba0-9803-13b133d932a9",
   "metadata": {},
   "source": [
    "https://github.com/aariel-chen/CS598-Final-Project/tree/master"
   ]
  },
  {
   "cell_type": "markdown",
   "id": "9aab7140-c431-4f3e-9d93-c2182e66986c",
   "metadata": {},
   "source": [
    "# Video Presentation"
   ]
  },
  {
   "cell_type": "markdown",
   "id": "b925cc3c-840e-46bf-8d96-4963cee7a879",
   "metadata": {},
   "source": [
    "https://youtu.be/A1_V3Tgzx9A?si=afjgo5ZfAzw5DZ7K\n"
   ]
  }
 ],
 "metadata": {
  "kernelspec": {
   "display_name": "Python 3 (ipykernel)",
   "language": "python",
   "name": "python3"
  },
  "language_info": {
   "codemirror_mode": {
    "name": "ipython",
    "version": 3
   },
   "file_extension": ".py",
   "mimetype": "text/x-python",
   "name": "python",
   "nbconvert_exporter": "python",
   "pygments_lexer": "ipython3",
   "version": "3.12.3"
  }
 },
 "nbformat": 4,
 "nbformat_minor": 5
}
